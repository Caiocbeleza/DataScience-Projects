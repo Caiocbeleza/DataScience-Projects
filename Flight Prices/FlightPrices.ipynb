{
 "cells": [
  {
   "cell_type": "code",
   "execution_count": 1,
   "metadata": {
    "executionInfo": {
     "elapsed": 2852,
     "status": "ok",
     "timestamp": 1685371093192,
     "user": {
      "displayName": "Caio Cesar Beleza",
      "userId": "00767076793462410646"
     },
     "user_tz": 180
    },
    "id": "pFREMBbAGNL8"
   },
   "outputs": [],
   "source": [
    "import pandas as pd\n",
    "from sklearn import preprocessing\n",
    "from sklearn import model_selection \n",
    "from sklearn import linear_model\n",
    "#import xgboost as xgb\n",
    "from sklearn.metrics import accuracy_score"
   ]
  },
  {
   "cell_type": "code",
   "execution_count": 2,
   "metadata": {
    "executionInfo": {
     "elapsed": 681,
     "status": "ok",
     "timestamp": 1685371095442,
     "user": {
      "displayName": "Caio Cesar Beleza",
      "userId": "00767076793462410646"
     },
     "user_tz": 180
    },
    "id": "1CoEI3k0Gogf"
   },
   "outputs": [],
   "source": [
    "dataset = pd.read_csv(\"Clean_Dataset.csv\")"
   ]
  },
  {
   "cell_type": "code",
   "execution_count": 3,
   "metadata": {
    "colab": {
     "base_uri": "https://localhost:8080/",
     "height": 424
    },
    "executionInfo": {
     "elapsed": 334,
     "status": "ok",
     "timestamp": 1685371098850,
     "user": {
      "displayName": "Caio Cesar Beleza",
      "userId": "00767076793462410646"
     },
     "user_tz": 180
    },
    "id": "6fe1pR0VGxwT",
    "outputId": "27239c72-92f0-4b41-bd95-d00a16fa3f1f"
   },
   "outputs": [
    {
     "data": {
      "text/html": [
       "<div>\n",
       "<style scoped>\n",
       "    .dataframe tbody tr th:only-of-type {\n",
       "        vertical-align: middle;\n",
       "    }\n",
       "\n",
       "    .dataframe tbody tr th {\n",
       "        vertical-align: top;\n",
       "    }\n",
       "\n",
       "    .dataframe thead th {\n",
       "        text-align: right;\n",
       "    }\n",
       "</style>\n",
       "<table border=\"1\" class=\"dataframe\">\n",
       "  <thead>\n",
       "    <tr style=\"text-align: right;\">\n",
       "      <th></th>\n",
       "      <th>Unnamed: 0</th>\n",
       "      <th>airline</th>\n",
       "      <th>flight</th>\n",
       "      <th>source_city</th>\n",
       "      <th>departure_time</th>\n",
       "      <th>stops</th>\n",
       "      <th>arrival_time</th>\n",
       "      <th>destination_city</th>\n",
       "      <th>class</th>\n",
       "      <th>duration</th>\n",
       "      <th>days_left</th>\n",
       "      <th>price</th>\n",
       "    </tr>\n",
       "  </thead>\n",
       "  <tbody>\n",
       "    <tr>\n",
       "      <th>0</th>\n",
       "      <td>0</td>\n",
       "      <td>SpiceJet</td>\n",
       "      <td>SG-8709</td>\n",
       "      <td>Delhi</td>\n",
       "      <td>Evening</td>\n",
       "      <td>zero</td>\n",
       "      <td>Night</td>\n",
       "      <td>Mumbai</td>\n",
       "      <td>Economy</td>\n",
       "      <td>2.17</td>\n",
       "      <td>1</td>\n",
       "      <td>5953</td>\n",
       "    </tr>\n",
       "    <tr>\n",
       "      <th>1</th>\n",
       "      <td>1</td>\n",
       "      <td>SpiceJet</td>\n",
       "      <td>SG-8157</td>\n",
       "      <td>Delhi</td>\n",
       "      <td>Early_Morning</td>\n",
       "      <td>zero</td>\n",
       "      <td>Morning</td>\n",
       "      <td>Mumbai</td>\n",
       "      <td>Economy</td>\n",
       "      <td>2.33</td>\n",
       "      <td>1</td>\n",
       "      <td>5953</td>\n",
       "    </tr>\n",
       "    <tr>\n",
       "      <th>2</th>\n",
       "      <td>2</td>\n",
       "      <td>AirAsia</td>\n",
       "      <td>I5-764</td>\n",
       "      <td>Delhi</td>\n",
       "      <td>Early_Morning</td>\n",
       "      <td>zero</td>\n",
       "      <td>Early_Morning</td>\n",
       "      <td>Mumbai</td>\n",
       "      <td>Economy</td>\n",
       "      <td>2.17</td>\n",
       "      <td>1</td>\n",
       "      <td>5956</td>\n",
       "    </tr>\n",
       "    <tr>\n",
       "      <th>3</th>\n",
       "      <td>3</td>\n",
       "      <td>Vistara</td>\n",
       "      <td>UK-995</td>\n",
       "      <td>Delhi</td>\n",
       "      <td>Morning</td>\n",
       "      <td>zero</td>\n",
       "      <td>Afternoon</td>\n",
       "      <td>Mumbai</td>\n",
       "      <td>Economy</td>\n",
       "      <td>2.25</td>\n",
       "      <td>1</td>\n",
       "      <td>5955</td>\n",
       "    </tr>\n",
       "    <tr>\n",
       "      <th>4</th>\n",
       "      <td>4</td>\n",
       "      <td>Vistara</td>\n",
       "      <td>UK-963</td>\n",
       "      <td>Delhi</td>\n",
       "      <td>Morning</td>\n",
       "      <td>zero</td>\n",
       "      <td>Morning</td>\n",
       "      <td>Mumbai</td>\n",
       "      <td>Economy</td>\n",
       "      <td>2.33</td>\n",
       "      <td>1</td>\n",
       "      <td>5955</td>\n",
       "    </tr>\n",
       "    <tr>\n",
       "      <th>...</th>\n",
       "      <td>...</td>\n",
       "      <td>...</td>\n",
       "      <td>...</td>\n",
       "      <td>...</td>\n",
       "      <td>...</td>\n",
       "      <td>...</td>\n",
       "      <td>...</td>\n",
       "      <td>...</td>\n",
       "      <td>...</td>\n",
       "      <td>...</td>\n",
       "      <td>...</td>\n",
       "      <td>...</td>\n",
       "    </tr>\n",
       "    <tr>\n",
       "      <th>300148</th>\n",
       "      <td>300148</td>\n",
       "      <td>Vistara</td>\n",
       "      <td>UK-822</td>\n",
       "      <td>Chennai</td>\n",
       "      <td>Morning</td>\n",
       "      <td>one</td>\n",
       "      <td>Evening</td>\n",
       "      <td>Hyderabad</td>\n",
       "      <td>Business</td>\n",
       "      <td>10.08</td>\n",
       "      <td>49</td>\n",
       "      <td>69265</td>\n",
       "    </tr>\n",
       "    <tr>\n",
       "      <th>300149</th>\n",
       "      <td>300149</td>\n",
       "      <td>Vistara</td>\n",
       "      <td>UK-826</td>\n",
       "      <td>Chennai</td>\n",
       "      <td>Afternoon</td>\n",
       "      <td>one</td>\n",
       "      <td>Night</td>\n",
       "      <td>Hyderabad</td>\n",
       "      <td>Business</td>\n",
       "      <td>10.42</td>\n",
       "      <td>49</td>\n",
       "      <td>77105</td>\n",
       "    </tr>\n",
       "    <tr>\n",
       "      <th>300150</th>\n",
       "      <td>300150</td>\n",
       "      <td>Vistara</td>\n",
       "      <td>UK-832</td>\n",
       "      <td>Chennai</td>\n",
       "      <td>Early_Morning</td>\n",
       "      <td>one</td>\n",
       "      <td>Night</td>\n",
       "      <td>Hyderabad</td>\n",
       "      <td>Business</td>\n",
       "      <td>13.83</td>\n",
       "      <td>49</td>\n",
       "      <td>79099</td>\n",
       "    </tr>\n",
       "    <tr>\n",
       "      <th>300151</th>\n",
       "      <td>300151</td>\n",
       "      <td>Vistara</td>\n",
       "      <td>UK-828</td>\n",
       "      <td>Chennai</td>\n",
       "      <td>Early_Morning</td>\n",
       "      <td>one</td>\n",
       "      <td>Evening</td>\n",
       "      <td>Hyderabad</td>\n",
       "      <td>Business</td>\n",
       "      <td>10.00</td>\n",
       "      <td>49</td>\n",
       "      <td>81585</td>\n",
       "    </tr>\n",
       "    <tr>\n",
       "      <th>300152</th>\n",
       "      <td>300152</td>\n",
       "      <td>Vistara</td>\n",
       "      <td>UK-822</td>\n",
       "      <td>Chennai</td>\n",
       "      <td>Morning</td>\n",
       "      <td>one</td>\n",
       "      <td>Evening</td>\n",
       "      <td>Hyderabad</td>\n",
       "      <td>Business</td>\n",
       "      <td>10.08</td>\n",
       "      <td>49</td>\n",
       "      <td>81585</td>\n",
       "    </tr>\n",
       "  </tbody>\n",
       "</table>\n",
       "<p>300153 rows × 12 columns</p>\n",
       "</div>"
      ],
      "text/plain": [
       "        Unnamed: 0   airline   flight source_city departure_time stops  \\\n",
       "0                0  SpiceJet  SG-8709       Delhi        Evening  zero   \n",
       "1                1  SpiceJet  SG-8157       Delhi  Early_Morning  zero   \n",
       "2                2   AirAsia   I5-764       Delhi  Early_Morning  zero   \n",
       "3                3   Vistara   UK-995       Delhi        Morning  zero   \n",
       "4                4   Vistara   UK-963       Delhi        Morning  zero   \n",
       "...            ...       ...      ...         ...            ...   ...   \n",
       "300148      300148   Vistara   UK-822     Chennai        Morning   one   \n",
       "300149      300149   Vistara   UK-826     Chennai      Afternoon   one   \n",
       "300150      300150   Vistara   UK-832     Chennai  Early_Morning   one   \n",
       "300151      300151   Vistara   UK-828     Chennai  Early_Morning   one   \n",
       "300152      300152   Vistara   UK-822     Chennai        Morning   one   \n",
       "\n",
       "         arrival_time destination_city     class  duration  days_left  price  \n",
       "0               Night           Mumbai   Economy      2.17          1   5953  \n",
       "1             Morning           Mumbai   Economy      2.33          1   5953  \n",
       "2       Early_Morning           Mumbai   Economy      2.17          1   5956  \n",
       "3           Afternoon           Mumbai   Economy      2.25          1   5955  \n",
       "4             Morning           Mumbai   Economy      2.33          1   5955  \n",
       "...               ...              ...       ...       ...        ...    ...  \n",
       "300148        Evening        Hyderabad  Business     10.08         49  69265  \n",
       "300149          Night        Hyderabad  Business     10.42         49  77105  \n",
       "300150          Night        Hyderabad  Business     13.83         49  79099  \n",
       "300151        Evening        Hyderabad  Business     10.00         49  81585  \n",
       "300152        Evening        Hyderabad  Business     10.08         49  81585  \n",
       "\n",
       "[300153 rows x 12 columns]"
      ]
     },
     "execution_count": 3,
     "metadata": {},
     "output_type": "execute_result"
    }
   ],
   "source": [
    "dataset"
   ]
  },
  {
   "cell_type": "code",
   "execution_count": 4,
   "metadata": {
    "colab": {
     "base_uri": "https://localhost:8080/"
    },
    "executionInfo": {
     "elapsed": 233,
     "status": "ok",
     "timestamp": 1685371117244,
     "user": {
      "displayName": "Caio Cesar Beleza",
      "userId": "00767076793462410646"
     },
     "user_tz": 180
    },
    "id": "roy22AQiH7rr",
    "outputId": "56d2a0b5-79e3-44be-99e1-bc5097d7af64"
   },
   "outputs": [
    {
     "data": {
      "text/plain": [
       "airline\n",
       "AirAsia       16098\n",
       "Air_India     80892\n",
       "GO_FIRST      23173\n",
       "Indigo        43120\n",
       "SpiceJet       9011\n",
       "Vistara      127859\n",
       "dtype: int64"
      ]
     },
     "execution_count": 4,
     "metadata": {},
     "output_type": "execute_result"
    }
   ],
   "source": [
    "dataset.groupby(['airline']).size()"
   ]
  },
  {
   "cell_type": "code",
   "execution_count": 5,
   "metadata": {
    "colab": {
     "base_uri": "https://localhost:8080/"
    },
    "executionInfo": {
     "elapsed": 245,
     "status": "ok",
     "timestamp": 1685371119769,
     "user": {
      "displayName": "Caio Cesar Beleza",
      "userId": "00767076793462410646"
     },
     "user_tz": 180
    },
    "id": "sUL9nEyYIQgC",
    "outputId": "8b2c186e-80e8-4a4c-97ca-524d3cfedbbf"
   },
   "outputs": [
    {
     "data": {
      "text/plain": [
       "source_city\n",
       "Bangalore    52061\n",
       "Chennai      38700\n",
       "Delhi        61343\n",
       "Hyderabad    40806\n",
       "Kolkata      46347\n",
       "Mumbai       60896\n",
       "dtype: int64"
      ]
     },
     "execution_count": 5,
     "metadata": {},
     "output_type": "execute_result"
    }
   ],
   "source": [
    "dataset.groupby(['source_city']).size()"
   ]
  },
  {
   "cell_type": "code",
   "execution_count": 6,
   "metadata": {
    "colab": {
     "base_uri": "https://localhost:8080/"
    },
    "executionInfo": {
     "elapsed": 258,
     "status": "ok",
     "timestamp": 1685371122065,
     "user": {
      "displayName": "Caio Cesar Beleza",
      "userId": "00767076793462410646"
     },
     "user_tz": 180
    },
    "id": "UMZdCSDfIV_7",
    "outputId": "bcbbfd81-9ff5-46ca-b3d9-675121bb1b6f"
   },
   "outputs": [
    {
     "data": {
      "text/plain": [
       "departure_time\n",
       "Afternoon        47794\n",
       "Early_Morning    66790\n",
       "Evening          65102\n",
       "Late_Night        1306\n",
       "Morning          71146\n",
       "Night            48015\n",
       "dtype: int64"
      ]
     },
     "execution_count": 6,
     "metadata": {},
     "output_type": "execute_result"
    }
   ],
   "source": [
    "dataset.groupby(['departure_time']).size()"
   ]
  },
  {
   "cell_type": "code",
   "execution_count": 7,
   "metadata": {
    "colab": {
     "base_uri": "https://localhost:8080/"
    },
    "executionInfo": {
     "elapsed": 340,
     "status": "ok",
     "timestamp": 1685371123959,
     "user": {
      "displayName": "Caio Cesar Beleza",
      "userId": "00767076793462410646"
     },
     "user_tz": 180
    },
    "id": "6hTMWEiDIxrf",
    "outputId": "814af8e8-176a-4314-f86f-638c26fa4e6d"
   },
   "outputs": [
    {
     "data": {
      "text/plain": [
       "stops\n",
       "one            250863\n",
       "two_or_more     13286\n",
       "zero            36004\n",
       "dtype: int64"
      ]
     },
     "execution_count": 7,
     "metadata": {},
     "output_type": "execute_result"
    }
   ],
   "source": [
    "dataset.groupby(['stops']).size()"
   ]
  },
  {
   "cell_type": "code",
   "execution_count": 8,
   "metadata": {
    "colab": {
     "base_uri": "https://localhost:8080/"
    },
    "executionInfo": {
     "elapsed": 400,
     "status": "ok",
     "timestamp": 1685371126242,
     "user": {
      "displayName": "Caio Cesar Beleza",
      "userId": "00767076793462410646"
     },
     "user_tz": 180
    },
    "id": "-2DLJwfKIztJ",
    "outputId": "80841f93-d62e-4cb3-809a-5cee5f2228de"
   },
   "outputs": [
    {
     "data": {
      "text/plain": [
       "arrival_time\n",
       "Afternoon        38139\n",
       "Early_Morning    15417\n",
       "Evening          78323\n",
       "Late_Night       14001\n",
       "Morning          62735\n",
       "Night            91538\n",
       "dtype: int64"
      ]
     },
     "execution_count": 8,
     "metadata": {},
     "output_type": "execute_result"
    }
   ],
   "source": [
    "dataset.groupby(['arrival_time']).size()"
   ]
  },
  {
   "cell_type": "code",
   "execution_count": 9,
   "metadata": {
    "colab": {
     "base_uri": "https://localhost:8080/"
    },
    "executionInfo": {
     "elapsed": 262,
     "status": "ok",
     "timestamp": 1685371127966,
     "user": {
      "displayName": "Caio Cesar Beleza",
      "userId": "00767076793462410646"
     },
     "user_tz": 180
    },
    "id": "KIa0XDXQI393",
    "outputId": "405fc263-9e5b-46e4-e484-cf9362be4826"
   },
   "outputs": [
    {
     "data": {
      "text/plain": [
       "destination_city\n",
       "Bangalore    51068\n",
       "Chennai      40368\n",
       "Delhi        57360\n",
       "Hyderabad    42726\n",
       "Kolkata      49534\n",
       "Mumbai       59097\n",
       "dtype: int64"
      ]
     },
     "execution_count": 9,
     "metadata": {},
     "output_type": "execute_result"
    }
   ],
   "source": [
    "dataset.groupby(['destination_city']).size()"
   ]
  },
  {
   "cell_type": "code",
   "execution_count": 10,
   "metadata": {
    "colab": {
     "base_uri": "https://localhost:8080/"
    },
    "executionInfo": {
     "elapsed": 450,
     "status": "ok",
     "timestamp": 1685371136952,
     "user": {
      "displayName": "Caio Cesar Beleza",
      "userId": "00767076793462410646"
     },
     "user_tz": 180
    },
    "id": "q3w8kQ10I8p0",
    "outputId": "2e45961b-23c9-4f27-f286-374b44be11e5"
   },
   "outputs": [
    {
     "data": {
      "text/plain": [
       "class\n",
       "Business     93487\n",
       "Economy     206666\n",
       "dtype: int64"
      ]
     },
     "execution_count": 10,
     "metadata": {},
     "output_type": "execute_result"
    }
   ],
   "source": [
    "dataset.groupby(['class']).size()"
   ]
  },
  {
   "cell_type": "code",
   "execution_count": 11,
   "metadata": {
    "colab": {
     "base_uri": "https://localhost:8080/"
    },
    "executionInfo": {
     "elapsed": 557,
     "status": "ok",
     "timestamp": 1685371133876,
     "user": {
      "displayName": "Caio Cesar Beleza",
      "userId": "00767076793462410646"
     },
     "user_tz": 180
    },
    "id": "F3pE-v-4JHSJ",
    "outputId": "91ecf35c-10eb-4958-cd99-58f147303892"
   },
   "outputs": [
    {
     "data": {
      "text/plain": [
       "duration\n",
       "0.83      52\n",
       "0.92      78\n",
       "1.00     377\n",
       "1.08     553\n",
       "1.17     960\n",
       "        ... \n",
       "44.50      1\n",
       "45.83      3\n",
       "47.08      1\n",
       "47.75      2\n",
       "49.83      2\n",
       "Length: 476, dtype: int64"
      ]
     },
     "execution_count": 11,
     "metadata": {},
     "output_type": "execute_result"
    }
   ],
   "source": [
    "dataset.groupby(['duration']).size()"
   ]
  },
  {
   "cell_type": "code",
   "execution_count": 12,
   "metadata": {
    "colab": {
     "base_uri": "https://localhost:8080/"
    },
    "executionInfo": {
     "elapsed": 292,
     "status": "ok",
     "timestamp": 1685371139567,
     "user": {
      "displayName": "Caio Cesar Beleza",
      "userId": "00767076793462410646"
     },
     "user_tz": 180
    },
    "id": "tROAYI7OJWnV",
    "outputId": "31790e68-a923-4651-96b6-69b34a09ec19"
   },
   "outputs": [
    {
     "data": {
      "text/plain": [
       "days_left\n",
       "1     1927\n",
       "2     4026\n",
       "3     4248\n",
       "4     5077\n",
       "5     5392\n",
       "6     5740\n",
       "7     5703\n",
       "8     5767\n",
       "9     5665\n",
       "10    5822\n",
       "11    6417\n",
       "12    6381\n",
       "13    6404\n",
       "14    6349\n",
       "15    6340\n",
       "16    6272\n",
       "17    6419\n",
       "18    6602\n",
       "19    6537\n",
       "20    6502\n",
       "21    6479\n",
       "22    6494\n",
       "23    6401\n",
       "24    6542\n",
       "25    6633\n",
       "26    6573\n",
       "27    6360\n",
       "28    6522\n",
       "29    6397\n",
       "30    6501\n",
       "31    6534\n",
       "32    6585\n",
       "33    6532\n",
       "34    6412\n",
       "35    6291\n",
       "36    6490\n",
       "37    6476\n",
       "38    6512\n",
       "39    6593\n",
       "40    6531\n",
       "41    6525\n",
       "42    6497\n",
       "43    6472\n",
       "44    6436\n",
       "45    6314\n",
       "46    6160\n",
       "47    6069\n",
       "48    6078\n",
       "49    6154\n",
       "dtype: int64"
      ]
     },
     "execution_count": 12,
     "metadata": {},
     "output_type": "execute_result"
    }
   ],
   "source": [
    "dataset.groupby(['days_left']).size()"
   ]
  },
  {
   "cell_type": "code",
   "execution_count": 13,
   "metadata": {
    "colab": {
     "base_uri": "https://localhost:8080/"
    },
    "executionInfo": {
     "elapsed": 273,
     "status": "ok",
     "timestamp": 1685371142351,
     "user": {
      "displayName": "Caio Cesar Beleza",
      "userId": "00767076793462410646"
     },
     "user_tz": 180
    },
    "id": "Q-QsencIJd00",
    "outputId": "74ca7ed5-4d5b-4470-f052-b82c16d8a5b6"
   },
   "outputs": [
    {
     "data": {
      "text/plain": [
       "price\n",
       "1105      300\n",
       "1106        7\n",
       "1443      180\n",
       "1444       14\n",
       "1526       20\n",
       "         ... \n",
       "114705      1\n",
       "115211      1\n",
       "116562      1\n",
       "117307      1\n",
       "123071      1\n",
       "Length: 12157, dtype: int64"
      ]
     },
     "execution_count": 13,
     "metadata": {},
     "output_type": "execute_result"
    }
   ],
   "source": [
    "dataset.groupby(['price']).size()"
   ]
  },
  {
   "cell_type": "code",
   "execution_count": 14,
   "metadata": {
    "colab": {
     "base_uri": "https://localhost:8080/"
    },
    "executionInfo": {
     "elapsed": 547,
     "status": "ok",
     "timestamp": 1685371144360,
     "user": {
      "displayName": "Caio Cesar Beleza",
      "userId": "00767076793462410646"
     },
     "user_tz": 180
    },
    "id": "wvzRiVvcNMPJ",
    "outputId": "0e4e30f2-37be-42bd-9af3-a77fc1177fa2"
   },
   "outputs": [
    {
     "data": {
      "text/plain": [
       "Unnamed: 0          0\n",
       "airline             0\n",
       "flight              0\n",
       "source_city         0\n",
       "departure_time      0\n",
       "stops               0\n",
       "arrival_time        0\n",
       "destination_city    0\n",
       "class               0\n",
       "duration            0\n",
       "days_left           0\n",
       "price               0\n",
       "dtype: int64"
      ]
     },
     "execution_count": 14,
     "metadata": {},
     "output_type": "execute_result"
    }
   ],
   "source": [
    "dataset.isnull().sum()"
   ]
  },
  {
   "cell_type": "code",
   "execution_count": 15,
   "metadata": {
    "executionInfo": {
     "elapsed": 254,
     "status": "ok",
     "timestamp": 1685371146731,
     "user": {
      "displayName": "Caio Cesar Beleza",
      "userId": "00767076793462410646"
     },
     "user_tz": 180
    },
    "id": "othSldDxNcsZ"
   },
   "outputs": [],
   "source": [
    "le = preprocessing.LabelEncoder()\n",
    "dataset['airline'] = le.fit_transform(dataset['airline'])"
   ]
  },
  {
   "cell_type": "code",
   "execution_count": 16,
   "metadata": {
    "executionInfo": {
     "elapsed": 238,
     "status": "ok",
     "timestamp": 1685371148398,
     "user": {
      "displayName": "Caio Cesar Beleza",
      "userId": "00767076793462410646"
     },
     "user_tz": 180
    },
    "id": "t6G_OBlm3u6z"
   },
   "outputs": [],
   "source": [
    "le = preprocessing.LabelEncoder()\n",
    "dataset['source_city'] = le.fit_transform(dataset['source_city'])"
   ]
  },
  {
   "cell_type": "code",
   "execution_count": 17,
   "metadata": {
    "executionInfo": {
     "elapsed": 302,
     "status": "ok",
     "timestamp": 1685371150138,
     "user": {
      "displayName": "Caio Cesar Beleza",
      "userId": "00767076793462410646"
     },
     "user_tz": 180
    },
    "id": "Vfja13bd30zq"
   },
   "outputs": [],
   "source": [
    "le = preprocessing.LabelEncoder()\n",
    "dataset['departure_time'] = le.fit_transform(dataset['departure_time'])"
   ]
  },
  {
   "cell_type": "code",
   "execution_count": 18,
   "metadata": {
    "executionInfo": {
     "elapsed": 257,
     "status": "ok",
     "timestamp": 1685371151731,
     "user": {
      "displayName": "Caio Cesar Beleza",
      "userId": "00767076793462410646"
     },
     "user_tz": 180
    },
    "id": "STNm0e3e35w1"
   },
   "outputs": [],
   "source": [
    "le = preprocessing.LabelEncoder()\n",
    "dataset['stops'] = le.fit_transform(dataset['stops'])"
   ]
  },
  {
   "cell_type": "code",
   "execution_count": 19,
   "metadata": {
    "executionInfo": {
     "elapsed": 241,
     "status": "ok",
     "timestamp": 1685371153723,
     "user": {
      "displayName": "Caio Cesar Beleza",
      "userId": "00767076793462410646"
     },
     "user_tz": 180
    },
    "id": "g--l_4qS39Sq"
   },
   "outputs": [],
   "source": [
    "le = preprocessing.LabelEncoder()\n",
    "dataset['arrival_time'] = le.fit_transform(dataset['arrival_time'])"
   ]
  },
  {
   "cell_type": "code",
   "execution_count": 20,
   "metadata": {
    "executionInfo": {
     "elapsed": 565,
     "status": "ok",
     "timestamp": 1685371156004,
     "user": {
      "displayName": "Caio Cesar Beleza",
      "userId": "00767076793462410646"
     },
     "user_tz": 180
    },
    "id": "CBCFVALm4Af8"
   },
   "outputs": [],
   "source": [
    "le = preprocessing.LabelEncoder()\n",
    "dataset['destination_city'] = le.fit_transform(dataset['destination_city'])"
   ]
  },
  {
   "cell_type": "code",
   "execution_count": 21,
   "metadata": {
    "executionInfo": {
     "elapsed": 351,
     "status": "ok",
     "timestamp": 1685371157613,
     "user": {
      "displayName": "Caio Cesar Beleza",
      "userId": "00767076793462410646"
     },
     "user_tz": 180
    },
    "id": "XJNr-e1L4EP9"
   },
   "outputs": [],
   "source": [
    "le = preprocessing.LabelEncoder()\n",
    "dataset['class'] = le.fit_transform(dataset['class'])"
   ]
  },
  {
   "cell_type": "code",
   "execution_count": 22,
   "metadata": {
    "colab": {
     "base_uri": "https://localhost:8080/",
     "height": 424
    },
    "executionInfo": {
     "elapsed": 404,
     "status": "ok",
     "timestamp": 1685371160091,
     "user": {
      "displayName": "Caio Cesar Beleza",
      "userId": "00767076793462410646"
     },
     "user_tz": 180
    },
    "id": "xvcnwmA83spu",
    "outputId": "c2473ac5-4d65-4010-9329-f3bdc8380ddb"
   },
   "outputs": [
    {
     "data": {
      "text/html": [
       "<div>\n",
       "<style scoped>\n",
       "    .dataframe tbody tr th:only-of-type {\n",
       "        vertical-align: middle;\n",
       "    }\n",
       "\n",
       "    .dataframe tbody tr th {\n",
       "        vertical-align: top;\n",
       "    }\n",
       "\n",
       "    .dataframe thead th {\n",
       "        text-align: right;\n",
       "    }\n",
       "</style>\n",
       "<table border=\"1\" class=\"dataframe\">\n",
       "  <thead>\n",
       "    <tr style=\"text-align: right;\">\n",
       "      <th></th>\n",
       "      <th>Unnamed: 0</th>\n",
       "      <th>airline</th>\n",
       "      <th>flight</th>\n",
       "      <th>source_city</th>\n",
       "      <th>departure_time</th>\n",
       "      <th>stops</th>\n",
       "      <th>arrival_time</th>\n",
       "      <th>destination_city</th>\n",
       "      <th>class</th>\n",
       "      <th>duration</th>\n",
       "      <th>days_left</th>\n",
       "      <th>price</th>\n",
       "    </tr>\n",
       "  </thead>\n",
       "  <tbody>\n",
       "    <tr>\n",
       "      <th>0</th>\n",
       "      <td>0</td>\n",
       "      <td>4</td>\n",
       "      <td>SG-8709</td>\n",
       "      <td>2</td>\n",
       "      <td>2</td>\n",
       "      <td>2</td>\n",
       "      <td>5</td>\n",
       "      <td>5</td>\n",
       "      <td>1</td>\n",
       "      <td>2.17</td>\n",
       "      <td>1</td>\n",
       "      <td>5953</td>\n",
       "    </tr>\n",
       "    <tr>\n",
       "      <th>1</th>\n",
       "      <td>1</td>\n",
       "      <td>4</td>\n",
       "      <td>SG-8157</td>\n",
       "      <td>2</td>\n",
       "      <td>1</td>\n",
       "      <td>2</td>\n",
       "      <td>4</td>\n",
       "      <td>5</td>\n",
       "      <td>1</td>\n",
       "      <td>2.33</td>\n",
       "      <td>1</td>\n",
       "      <td>5953</td>\n",
       "    </tr>\n",
       "    <tr>\n",
       "      <th>2</th>\n",
       "      <td>2</td>\n",
       "      <td>0</td>\n",
       "      <td>I5-764</td>\n",
       "      <td>2</td>\n",
       "      <td>1</td>\n",
       "      <td>2</td>\n",
       "      <td>1</td>\n",
       "      <td>5</td>\n",
       "      <td>1</td>\n",
       "      <td>2.17</td>\n",
       "      <td>1</td>\n",
       "      <td>5956</td>\n",
       "    </tr>\n",
       "    <tr>\n",
       "      <th>3</th>\n",
       "      <td>3</td>\n",
       "      <td>5</td>\n",
       "      <td>UK-995</td>\n",
       "      <td>2</td>\n",
       "      <td>4</td>\n",
       "      <td>2</td>\n",
       "      <td>0</td>\n",
       "      <td>5</td>\n",
       "      <td>1</td>\n",
       "      <td>2.25</td>\n",
       "      <td>1</td>\n",
       "      <td>5955</td>\n",
       "    </tr>\n",
       "    <tr>\n",
       "      <th>4</th>\n",
       "      <td>4</td>\n",
       "      <td>5</td>\n",
       "      <td>UK-963</td>\n",
       "      <td>2</td>\n",
       "      <td>4</td>\n",
       "      <td>2</td>\n",
       "      <td>4</td>\n",
       "      <td>5</td>\n",
       "      <td>1</td>\n",
       "      <td>2.33</td>\n",
       "      <td>1</td>\n",
       "      <td>5955</td>\n",
       "    </tr>\n",
       "    <tr>\n",
       "      <th>...</th>\n",
       "      <td>...</td>\n",
       "      <td>...</td>\n",
       "      <td>...</td>\n",
       "      <td>...</td>\n",
       "      <td>...</td>\n",
       "      <td>...</td>\n",
       "      <td>...</td>\n",
       "      <td>...</td>\n",
       "      <td>...</td>\n",
       "      <td>...</td>\n",
       "      <td>...</td>\n",
       "      <td>...</td>\n",
       "    </tr>\n",
       "    <tr>\n",
       "      <th>300148</th>\n",
       "      <td>300148</td>\n",
       "      <td>5</td>\n",
       "      <td>UK-822</td>\n",
       "      <td>1</td>\n",
       "      <td>4</td>\n",
       "      <td>0</td>\n",
       "      <td>2</td>\n",
       "      <td>3</td>\n",
       "      <td>0</td>\n",
       "      <td>10.08</td>\n",
       "      <td>49</td>\n",
       "      <td>69265</td>\n",
       "    </tr>\n",
       "    <tr>\n",
       "      <th>300149</th>\n",
       "      <td>300149</td>\n",
       "      <td>5</td>\n",
       "      <td>UK-826</td>\n",
       "      <td>1</td>\n",
       "      <td>0</td>\n",
       "      <td>0</td>\n",
       "      <td>5</td>\n",
       "      <td>3</td>\n",
       "      <td>0</td>\n",
       "      <td>10.42</td>\n",
       "      <td>49</td>\n",
       "      <td>77105</td>\n",
       "    </tr>\n",
       "    <tr>\n",
       "      <th>300150</th>\n",
       "      <td>300150</td>\n",
       "      <td>5</td>\n",
       "      <td>UK-832</td>\n",
       "      <td>1</td>\n",
       "      <td>1</td>\n",
       "      <td>0</td>\n",
       "      <td>5</td>\n",
       "      <td>3</td>\n",
       "      <td>0</td>\n",
       "      <td>13.83</td>\n",
       "      <td>49</td>\n",
       "      <td>79099</td>\n",
       "    </tr>\n",
       "    <tr>\n",
       "      <th>300151</th>\n",
       "      <td>300151</td>\n",
       "      <td>5</td>\n",
       "      <td>UK-828</td>\n",
       "      <td>1</td>\n",
       "      <td>1</td>\n",
       "      <td>0</td>\n",
       "      <td>2</td>\n",
       "      <td>3</td>\n",
       "      <td>0</td>\n",
       "      <td>10.00</td>\n",
       "      <td>49</td>\n",
       "      <td>81585</td>\n",
       "    </tr>\n",
       "    <tr>\n",
       "      <th>300152</th>\n",
       "      <td>300152</td>\n",
       "      <td>5</td>\n",
       "      <td>UK-822</td>\n",
       "      <td>1</td>\n",
       "      <td>4</td>\n",
       "      <td>0</td>\n",
       "      <td>2</td>\n",
       "      <td>3</td>\n",
       "      <td>0</td>\n",
       "      <td>10.08</td>\n",
       "      <td>49</td>\n",
       "      <td>81585</td>\n",
       "    </tr>\n",
       "  </tbody>\n",
       "</table>\n",
       "<p>300153 rows × 12 columns</p>\n",
       "</div>"
      ],
      "text/plain": [
       "        Unnamed: 0  airline   flight  source_city  departure_time  stops  \\\n",
       "0                0        4  SG-8709            2               2      2   \n",
       "1                1        4  SG-8157            2               1      2   \n",
       "2                2        0   I5-764            2               1      2   \n",
       "3                3        5   UK-995            2               4      2   \n",
       "4                4        5   UK-963            2               4      2   \n",
       "...            ...      ...      ...          ...             ...    ...   \n",
       "300148      300148        5   UK-822            1               4      0   \n",
       "300149      300149        5   UK-826            1               0      0   \n",
       "300150      300150        5   UK-832            1               1      0   \n",
       "300151      300151        5   UK-828            1               1      0   \n",
       "300152      300152        5   UK-822            1               4      0   \n",
       "\n",
       "        arrival_time  destination_city  class  duration  days_left  price  \n",
       "0                  5                 5      1      2.17          1   5953  \n",
       "1                  4                 5      1      2.33          1   5953  \n",
       "2                  1                 5      1      2.17          1   5956  \n",
       "3                  0                 5      1      2.25          1   5955  \n",
       "4                  4                 5      1      2.33          1   5955  \n",
       "...              ...               ...    ...       ...        ...    ...  \n",
       "300148             2                 3      0     10.08         49  69265  \n",
       "300149             5                 3      0     10.42         49  77105  \n",
       "300150             5                 3      0     13.83         49  79099  \n",
       "300151             2                 3      0     10.00         49  81585  \n",
       "300152             2                 3      0     10.08         49  81585  \n",
       "\n",
       "[300153 rows x 12 columns]"
      ]
     },
     "execution_count": 22,
     "metadata": {},
     "output_type": "execute_result"
    }
   ],
   "source": [
    "dataset"
   ]
  },
  {
   "cell_type": "code",
   "execution_count": 23,
   "metadata": {
    "colab": {
     "base_uri": "https://localhost:8080/",
     "height": 424
    },
    "executionInfo": {
     "elapsed": 276,
     "status": "ok",
     "timestamp": 1685371165209,
     "user": {
      "displayName": "Caio Cesar Beleza",
      "userId": "00767076793462410646"
     },
     "user_tz": 180
    },
    "id": "DuBe4jvN69n5",
    "outputId": "cbdeec4d-01cc-4e3d-e289-a4f154fb8042"
   },
   "outputs": [
    {
     "data": {
      "text/html": [
       "<div>\n",
       "<style scoped>\n",
       "    .dataframe tbody tr th:only-of-type {\n",
       "        vertical-align: middle;\n",
       "    }\n",
       "\n",
       "    .dataframe tbody tr th {\n",
       "        vertical-align: top;\n",
       "    }\n",
       "\n",
       "    .dataframe thead th {\n",
       "        text-align: right;\n",
       "    }\n",
       "</style>\n",
       "<table border=\"1\" class=\"dataframe\">\n",
       "  <thead>\n",
       "    <tr style=\"text-align: right;\">\n",
       "      <th></th>\n",
       "      <th>Unnamed: 0</th>\n",
       "      <th>airline</th>\n",
       "      <th>source_city</th>\n",
       "      <th>departure_time</th>\n",
       "      <th>stops</th>\n",
       "      <th>arrival_time</th>\n",
       "      <th>destination_city</th>\n",
       "      <th>class</th>\n",
       "      <th>duration</th>\n",
       "      <th>days_left</th>\n",
       "      <th>price</th>\n",
       "    </tr>\n",
       "  </thead>\n",
       "  <tbody>\n",
       "    <tr>\n",
       "      <th>0</th>\n",
       "      <td>0</td>\n",
       "      <td>4</td>\n",
       "      <td>2</td>\n",
       "      <td>2</td>\n",
       "      <td>2</td>\n",
       "      <td>5</td>\n",
       "      <td>5</td>\n",
       "      <td>1</td>\n",
       "      <td>2.17</td>\n",
       "      <td>1</td>\n",
       "      <td>5953</td>\n",
       "    </tr>\n",
       "    <tr>\n",
       "      <th>1</th>\n",
       "      <td>1</td>\n",
       "      <td>4</td>\n",
       "      <td>2</td>\n",
       "      <td>1</td>\n",
       "      <td>2</td>\n",
       "      <td>4</td>\n",
       "      <td>5</td>\n",
       "      <td>1</td>\n",
       "      <td>2.33</td>\n",
       "      <td>1</td>\n",
       "      <td>5953</td>\n",
       "    </tr>\n",
       "    <tr>\n",
       "      <th>2</th>\n",
       "      <td>2</td>\n",
       "      <td>0</td>\n",
       "      <td>2</td>\n",
       "      <td>1</td>\n",
       "      <td>2</td>\n",
       "      <td>1</td>\n",
       "      <td>5</td>\n",
       "      <td>1</td>\n",
       "      <td>2.17</td>\n",
       "      <td>1</td>\n",
       "      <td>5956</td>\n",
       "    </tr>\n",
       "    <tr>\n",
       "      <th>3</th>\n",
       "      <td>3</td>\n",
       "      <td>5</td>\n",
       "      <td>2</td>\n",
       "      <td>4</td>\n",
       "      <td>2</td>\n",
       "      <td>0</td>\n",
       "      <td>5</td>\n",
       "      <td>1</td>\n",
       "      <td>2.25</td>\n",
       "      <td>1</td>\n",
       "      <td>5955</td>\n",
       "    </tr>\n",
       "    <tr>\n",
       "      <th>4</th>\n",
       "      <td>4</td>\n",
       "      <td>5</td>\n",
       "      <td>2</td>\n",
       "      <td>4</td>\n",
       "      <td>2</td>\n",
       "      <td>4</td>\n",
       "      <td>5</td>\n",
       "      <td>1</td>\n",
       "      <td>2.33</td>\n",
       "      <td>1</td>\n",
       "      <td>5955</td>\n",
       "    </tr>\n",
       "    <tr>\n",
       "      <th>...</th>\n",
       "      <td>...</td>\n",
       "      <td>...</td>\n",
       "      <td>...</td>\n",
       "      <td>...</td>\n",
       "      <td>...</td>\n",
       "      <td>...</td>\n",
       "      <td>...</td>\n",
       "      <td>...</td>\n",
       "      <td>...</td>\n",
       "      <td>...</td>\n",
       "      <td>...</td>\n",
       "    </tr>\n",
       "    <tr>\n",
       "      <th>300148</th>\n",
       "      <td>300148</td>\n",
       "      <td>5</td>\n",
       "      <td>1</td>\n",
       "      <td>4</td>\n",
       "      <td>0</td>\n",
       "      <td>2</td>\n",
       "      <td>3</td>\n",
       "      <td>0</td>\n",
       "      <td>10.08</td>\n",
       "      <td>49</td>\n",
       "      <td>69265</td>\n",
       "    </tr>\n",
       "    <tr>\n",
       "      <th>300149</th>\n",
       "      <td>300149</td>\n",
       "      <td>5</td>\n",
       "      <td>1</td>\n",
       "      <td>0</td>\n",
       "      <td>0</td>\n",
       "      <td>5</td>\n",
       "      <td>3</td>\n",
       "      <td>0</td>\n",
       "      <td>10.42</td>\n",
       "      <td>49</td>\n",
       "      <td>77105</td>\n",
       "    </tr>\n",
       "    <tr>\n",
       "      <th>300150</th>\n",
       "      <td>300150</td>\n",
       "      <td>5</td>\n",
       "      <td>1</td>\n",
       "      <td>1</td>\n",
       "      <td>0</td>\n",
       "      <td>5</td>\n",
       "      <td>3</td>\n",
       "      <td>0</td>\n",
       "      <td>13.83</td>\n",
       "      <td>49</td>\n",
       "      <td>79099</td>\n",
       "    </tr>\n",
       "    <tr>\n",
       "      <th>300151</th>\n",
       "      <td>300151</td>\n",
       "      <td>5</td>\n",
       "      <td>1</td>\n",
       "      <td>1</td>\n",
       "      <td>0</td>\n",
       "      <td>2</td>\n",
       "      <td>3</td>\n",
       "      <td>0</td>\n",
       "      <td>10.00</td>\n",
       "      <td>49</td>\n",
       "      <td>81585</td>\n",
       "    </tr>\n",
       "    <tr>\n",
       "      <th>300152</th>\n",
       "      <td>300152</td>\n",
       "      <td>5</td>\n",
       "      <td>1</td>\n",
       "      <td>4</td>\n",
       "      <td>0</td>\n",
       "      <td>2</td>\n",
       "      <td>3</td>\n",
       "      <td>0</td>\n",
       "      <td>10.08</td>\n",
       "      <td>49</td>\n",
       "      <td>81585</td>\n",
       "    </tr>\n",
       "  </tbody>\n",
       "</table>\n",
       "<p>300153 rows × 11 columns</p>\n",
       "</div>"
      ],
      "text/plain": [
       "        Unnamed: 0  airline  source_city  departure_time  stops  arrival_time  \\\n",
       "0                0        4            2               2      2             5   \n",
       "1                1        4            2               1      2             4   \n",
       "2                2        0            2               1      2             1   \n",
       "3                3        5            2               4      2             0   \n",
       "4                4        5            2               4      2             4   \n",
       "...            ...      ...          ...             ...    ...           ...   \n",
       "300148      300148        5            1               4      0             2   \n",
       "300149      300149        5            1               0      0             5   \n",
       "300150      300150        5            1               1      0             5   \n",
       "300151      300151        5            1               1      0             2   \n",
       "300152      300152        5            1               4      0             2   \n",
       "\n",
       "        destination_city  class  duration  days_left  price  \n",
       "0                      5      1      2.17          1   5953  \n",
       "1                      5      1      2.33          1   5953  \n",
       "2                      5      1      2.17          1   5956  \n",
       "3                      5      1      2.25          1   5955  \n",
       "4                      5      1      2.33          1   5955  \n",
       "...                  ...    ...       ...        ...    ...  \n",
       "300148                 3      0     10.08         49  69265  \n",
       "300149                 3      0     10.42         49  77105  \n",
       "300150                 3      0     13.83         49  79099  \n",
       "300151                 3      0     10.00         49  81585  \n",
       "300152                 3      0     10.08         49  81585  \n",
       "\n",
       "[300153 rows x 11 columns]"
      ]
     },
     "execution_count": 23,
     "metadata": {},
     "output_type": "execute_result"
    }
   ],
   "source": [
    "df = dataset.drop(['flight'], axis=1)\n",
    "df"
   ]
  },
  {
   "cell_type": "code",
   "execution_count": 24,
   "metadata": {
    "colab": {
     "base_uri": "https://localhost:8080/",
     "height": 424
    },
    "executionInfo": {
     "elapsed": 260,
     "status": "ok",
     "timestamp": 1685371168616,
     "user": {
      "displayName": "Caio Cesar Beleza",
      "userId": "00767076793462410646"
     },
     "user_tz": 180
    },
    "id": "oR2rfj-07Ldg",
    "outputId": "869ee251-211e-4385-ad0a-ff20f917a274"
   },
   "outputs": [
    {
     "data": {
      "text/html": [
       "<div>\n",
       "<style scoped>\n",
       "    .dataframe tbody tr th:only-of-type {\n",
       "        vertical-align: middle;\n",
       "    }\n",
       "\n",
       "    .dataframe tbody tr th {\n",
       "        vertical-align: top;\n",
       "    }\n",
       "\n",
       "    .dataframe thead th {\n",
       "        text-align: right;\n",
       "    }\n",
       "</style>\n",
       "<table border=\"1\" class=\"dataframe\">\n",
       "  <thead>\n",
       "    <tr style=\"text-align: right;\">\n",
       "      <th></th>\n",
       "      <th>Unnamed: 0</th>\n",
       "      <th>airline</th>\n",
       "      <th>source_city</th>\n",
       "      <th>departure_time</th>\n",
       "      <th>stops</th>\n",
       "      <th>arrival_time</th>\n",
       "      <th>destination_city</th>\n",
       "      <th>class</th>\n",
       "      <th>duration</th>\n",
       "      <th>days_left</th>\n",
       "    </tr>\n",
       "  </thead>\n",
       "  <tbody>\n",
       "    <tr>\n",
       "      <th>0</th>\n",
       "      <td>0</td>\n",
       "      <td>4</td>\n",
       "      <td>2</td>\n",
       "      <td>2</td>\n",
       "      <td>2</td>\n",
       "      <td>5</td>\n",
       "      <td>5</td>\n",
       "      <td>1</td>\n",
       "      <td>2.17</td>\n",
       "      <td>1</td>\n",
       "    </tr>\n",
       "    <tr>\n",
       "      <th>1</th>\n",
       "      <td>1</td>\n",
       "      <td>4</td>\n",
       "      <td>2</td>\n",
       "      <td>1</td>\n",
       "      <td>2</td>\n",
       "      <td>4</td>\n",
       "      <td>5</td>\n",
       "      <td>1</td>\n",
       "      <td>2.33</td>\n",
       "      <td>1</td>\n",
       "    </tr>\n",
       "    <tr>\n",
       "      <th>2</th>\n",
       "      <td>2</td>\n",
       "      <td>0</td>\n",
       "      <td>2</td>\n",
       "      <td>1</td>\n",
       "      <td>2</td>\n",
       "      <td>1</td>\n",
       "      <td>5</td>\n",
       "      <td>1</td>\n",
       "      <td>2.17</td>\n",
       "      <td>1</td>\n",
       "    </tr>\n",
       "    <tr>\n",
       "      <th>3</th>\n",
       "      <td>3</td>\n",
       "      <td>5</td>\n",
       "      <td>2</td>\n",
       "      <td>4</td>\n",
       "      <td>2</td>\n",
       "      <td>0</td>\n",
       "      <td>5</td>\n",
       "      <td>1</td>\n",
       "      <td>2.25</td>\n",
       "      <td>1</td>\n",
       "    </tr>\n",
       "    <tr>\n",
       "      <th>4</th>\n",
       "      <td>4</td>\n",
       "      <td>5</td>\n",
       "      <td>2</td>\n",
       "      <td>4</td>\n",
       "      <td>2</td>\n",
       "      <td>4</td>\n",
       "      <td>5</td>\n",
       "      <td>1</td>\n",
       "      <td>2.33</td>\n",
       "      <td>1</td>\n",
       "    </tr>\n",
       "    <tr>\n",
       "      <th>...</th>\n",
       "      <td>...</td>\n",
       "      <td>...</td>\n",
       "      <td>...</td>\n",
       "      <td>...</td>\n",
       "      <td>...</td>\n",
       "      <td>...</td>\n",
       "      <td>...</td>\n",
       "      <td>...</td>\n",
       "      <td>...</td>\n",
       "      <td>...</td>\n",
       "    </tr>\n",
       "    <tr>\n",
       "      <th>300148</th>\n",
       "      <td>300148</td>\n",
       "      <td>5</td>\n",
       "      <td>1</td>\n",
       "      <td>4</td>\n",
       "      <td>0</td>\n",
       "      <td>2</td>\n",
       "      <td>3</td>\n",
       "      <td>0</td>\n",
       "      <td>10.08</td>\n",
       "      <td>49</td>\n",
       "    </tr>\n",
       "    <tr>\n",
       "      <th>300149</th>\n",
       "      <td>300149</td>\n",
       "      <td>5</td>\n",
       "      <td>1</td>\n",
       "      <td>0</td>\n",
       "      <td>0</td>\n",
       "      <td>5</td>\n",
       "      <td>3</td>\n",
       "      <td>0</td>\n",
       "      <td>10.42</td>\n",
       "      <td>49</td>\n",
       "    </tr>\n",
       "    <tr>\n",
       "      <th>300150</th>\n",
       "      <td>300150</td>\n",
       "      <td>5</td>\n",
       "      <td>1</td>\n",
       "      <td>1</td>\n",
       "      <td>0</td>\n",
       "      <td>5</td>\n",
       "      <td>3</td>\n",
       "      <td>0</td>\n",
       "      <td>13.83</td>\n",
       "      <td>49</td>\n",
       "    </tr>\n",
       "    <tr>\n",
       "      <th>300151</th>\n",
       "      <td>300151</td>\n",
       "      <td>5</td>\n",
       "      <td>1</td>\n",
       "      <td>1</td>\n",
       "      <td>0</td>\n",
       "      <td>2</td>\n",
       "      <td>3</td>\n",
       "      <td>0</td>\n",
       "      <td>10.00</td>\n",
       "      <td>49</td>\n",
       "    </tr>\n",
       "    <tr>\n",
       "      <th>300152</th>\n",
       "      <td>300152</td>\n",
       "      <td>5</td>\n",
       "      <td>1</td>\n",
       "      <td>4</td>\n",
       "      <td>0</td>\n",
       "      <td>2</td>\n",
       "      <td>3</td>\n",
       "      <td>0</td>\n",
       "      <td>10.08</td>\n",
       "      <td>49</td>\n",
       "    </tr>\n",
       "  </tbody>\n",
       "</table>\n",
       "<p>300153 rows × 10 columns</p>\n",
       "</div>"
      ],
      "text/plain": [
       "        Unnamed: 0  airline  source_city  departure_time  stops  arrival_time  \\\n",
       "0                0        4            2               2      2             5   \n",
       "1                1        4            2               1      2             4   \n",
       "2                2        0            2               1      2             1   \n",
       "3                3        5            2               4      2             0   \n",
       "4                4        5            2               4      2             4   \n",
       "...            ...      ...          ...             ...    ...           ...   \n",
       "300148      300148        5            1               4      0             2   \n",
       "300149      300149        5            1               0      0             5   \n",
       "300150      300150        5            1               1      0             5   \n",
       "300151      300151        5            1               1      0             2   \n",
       "300152      300152        5            1               4      0             2   \n",
       "\n",
       "        destination_city  class  duration  days_left  \n",
       "0                      5      1      2.17          1  \n",
       "1                      5      1      2.33          1  \n",
       "2                      5      1      2.17          1  \n",
       "3                      5      1      2.25          1  \n",
       "4                      5      1      2.33          1  \n",
       "...                  ...    ...       ...        ...  \n",
       "300148                 3      0     10.08         49  \n",
       "300149                 3      0     10.42         49  \n",
       "300150                 3      0     13.83         49  \n",
       "300151                 3      0     10.00         49  \n",
       "300152                 3      0     10.08         49  \n",
       "\n",
       "[300153 rows x 10 columns]"
      ]
     },
     "execution_count": 24,
     "metadata": {},
     "output_type": "execute_result"
    }
   ],
   "source": [
    "X = df.drop(['price'], axis=1)\n",
    "X"
   ]
  },
  {
   "cell_type": "code",
   "execution_count": 25,
   "metadata": {
    "colab": {
     "base_uri": "https://localhost:8080/"
    },
    "executionInfo": {
     "elapsed": 271,
     "status": "ok",
     "timestamp": 1685371171428,
     "user": {
      "displayName": "Caio Cesar Beleza",
      "userId": "00767076793462410646"
     },
     "user_tz": 180
    },
    "id": "iomz1BeP7OFE",
    "outputId": "90d9bd32-cc7d-46f5-fa58-957cb0f1d182"
   },
   "outputs": [
    {
     "data": {
      "text/plain": [
       "0          5953\n",
       "1          5953\n",
       "2          5956\n",
       "3          5955\n",
       "4          5955\n",
       "          ...  \n",
       "300148    69265\n",
       "300149    77105\n",
       "300150    79099\n",
       "300151    81585\n",
       "300152    81585\n",
       "Name: price, Length: 300153, dtype: int64"
      ]
     },
     "execution_count": 25,
     "metadata": {},
     "output_type": "execute_result"
    }
   ],
   "source": [
    "y = df[('price')]\n",
    "y"
   ]
  },
  {
   "cell_type": "code",
   "execution_count": 26,
   "metadata": {
    "executionInfo": {
     "elapsed": 256,
     "status": "ok",
     "timestamp": 1685371173972,
     "user": {
      "displayName": "Caio Cesar Beleza",
      "userId": "00767076793462410646"
     },
     "user_tz": 180
    },
    "id": "A1viyxce8Gyc"
   },
   "outputs": [],
   "source": [
    "X_train, X_test, y_train, y_test = model_selection.train_test_split(X, y, test_size=0.2)"
   ]
  },
  {
   "cell_type": "code",
   "execution_count": 27,
   "metadata": {
    "colab": {
     "base_uri": "https://localhost:8080/",
     "height": 424
    },
    "executionInfo": {
     "elapsed": 255,
     "status": "ok",
     "timestamp": 1685371175851,
     "user": {
      "displayName": "Caio Cesar Beleza",
      "userId": "00767076793462410646"
     },
     "user_tz": 180
    },
    "id": "WfWYx5Yw8Jzp",
    "outputId": "c20ca8ef-e915-4798-f31f-d0ede102b9d7"
   },
   "outputs": [
    {
     "data": {
      "text/html": [
       "<div>\n",
       "<style scoped>\n",
       "    .dataframe tbody tr th:only-of-type {\n",
       "        vertical-align: middle;\n",
       "    }\n",
       "\n",
       "    .dataframe tbody tr th {\n",
       "        vertical-align: top;\n",
       "    }\n",
       "\n",
       "    .dataframe thead th {\n",
       "        text-align: right;\n",
       "    }\n",
       "</style>\n",
       "<table border=\"1\" class=\"dataframe\">\n",
       "  <thead>\n",
       "    <tr style=\"text-align: right;\">\n",
       "      <th></th>\n",
       "      <th>Unnamed: 0</th>\n",
       "      <th>airline</th>\n",
       "      <th>source_city</th>\n",
       "      <th>departure_time</th>\n",
       "      <th>stops</th>\n",
       "      <th>arrival_time</th>\n",
       "      <th>destination_city</th>\n",
       "      <th>class</th>\n",
       "      <th>duration</th>\n",
       "      <th>days_left</th>\n",
       "    </tr>\n",
       "  </thead>\n",
       "  <tbody>\n",
       "    <tr>\n",
       "      <th>213506</th>\n",
       "      <td>213506</td>\n",
       "      <td>5</td>\n",
       "      <td>2</td>\n",
       "      <td>2</td>\n",
       "      <td>2</td>\n",
       "      <td>5</td>\n",
       "      <td>0</td>\n",
       "      <td>0</td>\n",
       "      <td>2.83</td>\n",
       "      <td>21</td>\n",
       "    </tr>\n",
       "    <tr>\n",
       "      <th>261174</th>\n",
       "      <td>261174</td>\n",
       "      <td>1</td>\n",
       "      <td>0</td>\n",
       "      <td>5</td>\n",
       "      <td>0</td>\n",
       "      <td>4</td>\n",
       "      <td>1</td>\n",
       "      <td>0</td>\n",
       "      <td>11.92</td>\n",
       "      <td>47</td>\n",
       "    </tr>\n",
       "    <tr>\n",
       "      <th>198324</th>\n",
       "      <td>198324</td>\n",
       "      <td>3</td>\n",
       "      <td>1</td>\n",
       "      <td>4</td>\n",
       "      <td>0</td>\n",
       "      <td>0</td>\n",
       "      <td>4</td>\n",
       "      <td>1</td>\n",
       "      <td>5.42</td>\n",
       "      <td>8</td>\n",
       "    </tr>\n",
       "    <tr>\n",
       "      <th>134356</th>\n",
       "      <td>134356</td>\n",
       "      <td>2</td>\n",
       "      <td>4</td>\n",
       "      <td>1</td>\n",
       "      <td>0</td>\n",
       "      <td>2</td>\n",
       "      <td>5</td>\n",
       "      <td>1</td>\n",
       "      <td>11.58</td>\n",
       "      <td>42</td>\n",
       "    </tr>\n",
       "    <tr>\n",
       "      <th>74494</th>\n",
       "      <td>74494</td>\n",
       "      <td>2</td>\n",
       "      <td>5</td>\n",
       "      <td>0</td>\n",
       "      <td>0</td>\n",
       "      <td>2</td>\n",
       "      <td>3</td>\n",
       "      <td>1</td>\n",
       "      <td>7.08</td>\n",
       "      <td>30</td>\n",
       "    </tr>\n",
       "    <tr>\n",
       "      <th>...</th>\n",
       "      <td>...</td>\n",
       "      <td>...</td>\n",
       "      <td>...</td>\n",
       "      <td>...</td>\n",
       "      <td>...</td>\n",
       "      <td>...</td>\n",
       "      <td>...</td>\n",
       "      <td>...</td>\n",
       "      <td>...</td>\n",
       "      <td>...</td>\n",
       "    </tr>\n",
       "    <tr>\n",
       "      <th>106747</th>\n",
       "      <td>106747</td>\n",
       "      <td>3</td>\n",
       "      <td>0</td>\n",
       "      <td>5</td>\n",
       "      <td>0</td>\n",
       "      <td>1</td>\n",
       "      <td>4</td>\n",
       "      <td>1</td>\n",
       "      <td>10.00</td>\n",
       "      <td>30</td>\n",
       "    </tr>\n",
       "    <tr>\n",
       "      <th>83198</th>\n",
       "      <td>83198</td>\n",
       "      <td>5</td>\n",
       "      <td>5</td>\n",
       "      <td>2</td>\n",
       "      <td>0</td>\n",
       "      <td>2</td>\n",
       "      <td>1</td>\n",
       "      <td>1</td>\n",
       "      <td>20.58</td>\n",
       "      <td>43</td>\n",
       "    </tr>\n",
       "    <tr>\n",
       "      <th>247780</th>\n",
       "      <td>247780</td>\n",
       "      <td>1</td>\n",
       "      <td>0</td>\n",
       "      <td>1</td>\n",
       "      <td>0</td>\n",
       "      <td>2</td>\n",
       "      <td>2</td>\n",
       "      <td>0</td>\n",
       "      <td>10.92</td>\n",
       "      <td>39</td>\n",
       "    </tr>\n",
       "    <tr>\n",
       "      <th>101698</th>\n",
       "      <td>101698</td>\n",
       "      <td>3</td>\n",
       "      <td>0</td>\n",
       "      <td>2</td>\n",
       "      <td>2</td>\n",
       "      <td>5</td>\n",
       "      <td>5</td>\n",
       "      <td>1</td>\n",
       "      <td>2.00</td>\n",
       "      <td>44</td>\n",
       "    </tr>\n",
       "    <tr>\n",
       "      <th>114591</th>\n",
       "      <td>114591</td>\n",
       "      <td>5</td>\n",
       "      <td>0</td>\n",
       "      <td>1</td>\n",
       "      <td>0</td>\n",
       "      <td>1</td>\n",
       "      <td>3</td>\n",
       "      <td>1</td>\n",
       "      <td>25.17</td>\n",
       "      <td>42</td>\n",
       "    </tr>\n",
       "  </tbody>\n",
       "</table>\n",
       "<p>240122 rows × 10 columns</p>\n",
       "</div>"
      ],
      "text/plain": [
       "        Unnamed: 0  airline  source_city  departure_time  stops  arrival_time  \\\n",
       "213506      213506        5            2               2      2             5   \n",
       "261174      261174        1            0               5      0             4   \n",
       "198324      198324        3            1               4      0             0   \n",
       "134356      134356        2            4               1      0             2   \n",
       "74494        74494        2            5               0      0             2   \n",
       "...            ...      ...          ...             ...    ...           ...   \n",
       "106747      106747        3            0               5      0             1   \n",
       "83198        83198        5            5               2      0             2   \n",
       "247780      247780        1            0               1      0             2   \n",
       "101698      101698        3            0               2      2             5   \n",
       "114591      114591        5            0               1      0             1   \n",
       "\n",
       "        destination_city  class  duration  days_left  \n",
       "213506                 0      0      2.83         21  \n",
       "261174                 1      0     11.92         47  \n",
       "198324                 4      1      5.42          8  \n",
       "134356                 5      1     11.58         42  \n",
       "74494                  3      1      7.08         30  \n",
       "...                  ...    ...       ...        ...  \n",
       "106747                 4      1     10.00         30  \n",
       "83198                  1      1     20.58         43  \n",
       "247780                 2      0     10.92         39  \n",
       "101698                 5      1      2.00         44  \n",
       "114591                 3      1     25.17         42  \n",
       "\n",
       "[240122 rows x 10 columns]"
      ]
     },
     "execution_count": 27,
     "metadata": {},
     "output_type": "execute_result"
    }
   ],
   "source": [
    "X_train"
   ]
  },
  {
   "cell_type": "code",
   "execution_count": null,
   "metadata": {
    "id": "uh8BiG0n8NJW"
   },
   "outputs": [],
   "source": [
    "lm = linear_model.LogisticRegression()\n",
    "lm.fit(X_train, y_train)"
   ]
  }
 ],
 "metadata": {
  "colab": {
   "authorship_tag": "ABX9TyP/XwRgpC0MI2WcWi1ifIN7",
   "mount_file_id": "1L-XDY2R84r5AWYSkWO9yfrJj7R1cJxK3",
   "provenance": []
  },
  "kernelspec": {
   "display_name": "Python 3 (ipykernel)",
   "language": "python",
   "name": "python3"
  },
  "language_info": {
   "codemirror_mode": {
    "name": "ipython",
    "version": 3
   },
   "file_extension": ".py",
   "mimetype": "text/x-python",
   "name": "python",
   "nbconvert_exporter": "python",
   "pygments_lexer": "ipython3",
   "version": "3.10.9"
  }
 },
 "nbformat": 4,
 "nbformat_minor": 4
}
