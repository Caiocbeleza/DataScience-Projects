{
 "cells": [
  {
   "cell_type": "code",
   "execution_count": 69,
   "metadata": {
    "executionInfo": {
     "elapsed": 2852,
     "status": "ok",
     "timestamp": 1685371093192,
     "user": {
      "displayName": "Caio Cesar Beleza",
      "userId": "00767076793462410646"
     },
     "user_tz": 180
    },
    "id": "pFREMBbAGNL8"
   },
   "outputs": [],
   "source": [
    "import pandas as pd\n",
    "import numpy as np\n",
    "import matplotlib.pyplot as plt\n",
    "import seaborn as sns\n",
    "\n",
    "#Models from Scikit Learn\n",
    "from sklearn import linear_model\n",
    "from sklearn import metrics\n",
    "from sklearn.tree import DecisionTreeRegressor\n",
    "import xgboost as xgb\n",
    "from sklearn.ensemble import  RandomForestRegressor, ExtraTreesRegressor,GradientBoostingRegressor, BaggingRegressor,HistGradientBoostingRegressor\n",
    "from sklearn.svm import SVR\n",
    "from sklearn.neighbors import KNeighborsRegressor\n",
    "from sklearn.linear_model import LogisticRegression, Ridge, LinearRegression\n",
    "from sklearn.preprocessing import LabelEncoder, MinMaxScaler\n",
    "\n",
    "#Model evaulation\n",
    "from sklearn.model_selection import train_test_split, cross_val_score\n",
    "from sklearn.metrics import mean_absolute_error, mean_squared_log_error,r2_score\n",
    "from sklearn.model_selection import RandomizedSearchCV, GridSearchCV\n",
    "from sklearn.metrics import confusion_matrix, classification_report\n",
    "from sklearn.metrics import mean_absolute_error, mean_squared_error\n",
    "\n",
    "#Setup random seed\n",
    "import numpy as np\n",
    "np.random.seed(42)"
   ]
  },
  {
   "cell_type": "code",
   "execution_count": 2,
   "metadata": {
    "executionInfo": {
     "elapsed": 681,
     "status": "ok",
     "timestamp": 1685371095442,
     "user": {
      "displayName": "Caio Cesar Beleza",
      "userId": "00767076793462410646"
     },
     "user_tz": 180
    },
    "id": "1CoEI3k0Gogf"
   },
   "outputs": [],
   "source": [
    "df = pd.read_csv(\"Clean_Dataset.csv\")"
   ]
  },
  {
   "cell_type": "code",
   "execution_count": 3,
   "metadata": {
    "colab": {
     "base_uri": "https://localhost:8080/",
     "height": 424
    },
    "executionInfo": {
     "elapsed": 334,
     "status": "ok",
     "timestamp": 1685371098850,
     "user": {
      "displayName": "Caio Cesar Beleza",
      "userId": "00767076793462410646"
     },
     "user_tz": 180
    },
    "id": "6fe1pR0VGxwT",
    "outputId": "27239c72-92f0-4b41-bd95-d00a16fa3f1f"
   },
   "outputs": [
    {
     "data": {
      "text/html": [
       "<div>\n",
       "<style scoped>\n",
       "    .dataframe tbody tr th:only-of-type {\n",
       "        vertical-align: middle;\n",
       "    }\n",
       "\n",
       "    .dataframe tbody tr th {\n",
       "        vertical-align: top;\n",
       "    }\n",
       "\n",
       "    .dataframe thead th {\n",
       "        text-align: right;\n",
       "    }\n",
       "</style>\n",
       "<table border=\"1\" class=\"dataframe\">\n",
       "  <thead>\n",
       "    <tr style=\"text-align: right;\">\n",
       "      <th></th>\n",
       "      <th>Unnamed: 0</th>\n",
       "      <th>airline</th>\n",
       "      <th>flight</th>\n",
       "      <th>source_city</th>\n",
       "      <th>departure_time</th>\n",
       "      <th>stops</th>\n",
       "      <th>arrival_time</th>\n",
       "      <th>destination_city</th>\n",
       "      <th>class</th>\n",
       "      <th>duration</th>\n",
       "      <th>days_left</th>\n",
       "      <th>price</th>\n",
       "    </tr>\n",
       "  </thead>\n",
       "  <tbody>\n",
       "    <tr>\n",
       "      <th>0</th>\n",
       "      <td>0</td>\n",
       "      <td>SpiceJet</td>\n",
       "      <td>SG-8709</td>\n",
       "      <td>Delhi</td>\n",
       "      <td>Evening</td>\n",
       "      <td>zero</td>\n",
       "      <td>Night</td>\n",
       "      <td>Mumbai</td>\n",
       "      <td>Economy</td>\n",
       "      <td>2.17</td>\n",
       "      <td>1</td>\n",
       "      <td>5953</td>\n",
       "    </tr>\n",
       "    <tr>\n",
       "      <th>1</th>\n",
       "      <td>1</td>\n",
       "      <td>SpiceJet</td>\n",
       "      <td>SG-8157</td>\n",
       "      <td>Delhi</td>\n",
       "      <td>Early_Morning</td>\n",
       "      <td>zero</td>\n",
       "      <td>Morning</td>\n",
       "      <td>Mumbai</td>\n",
       "      <td>Economy</td>\n",
       "      <td>2.33</td>\n",
       "      <td>1</td>\n",
       "      <td>5953</td>\n",
       "    </tr>\n",
       "    <tr>\n",
       "      <th>2</th>\n",
       "      <td>2</td>\n",
       "      <td>AirAsia</td>\n",
       "      <td>I5-764</td>\n",
       "      <td>Delhi</td>\n",
       "      <td>Early_Morning</td>\n",
       "      <td>zero</td>\n",
       "      <td>Early_Morning</td>\n",
       "      <td>Mumbai</td>\n",
       "      <td>Economy</td>\n",
       "      <td>2.17</td>\n",
       "      <td>1</td>\n",
       "      <td>5956</td>\n",
       "    </tr>\n",
       "    <tr>\n",
       "      <th>3</th>\n",
       "      <td>3</td>\n",
       "      <td>Vistara</td>\n",
       "      <td>UK-995</td>\n",
       "      <td>Delhi</td>\n",
       "      <td>Morning</td>\n",
       "      <td>zero</td>\n",
       "      <td>Afternoon</td>\n",
       "      <td>Mumbai</td>\n",
       "      <td>Economy</td>\n",
       "      <td>2.25</td>\n",
       "      <td>1</td>\n",
       "      <td>5955</td>\n",
       "    </tr>\n",
       "    <tr>\n",
       "      <th>4</th>\n",
       "      <td>4</td>\n",
       "      <td>Vistara</td>\n",
       "      <td>UK-963</td>\n",
       "      <td>Delhi</td>\n",
       "      <td>Morning</td>\n",
       "      <td>zero</td>\n",
       "      <td>Morning</td>\n",
       "      <td>Mumbai</td>\n",
       "      <td>Economy</td>\n",
       "      <td>2.33</td>\n",
       "      <td>1</td>\n",
       "      <td>5955</td>\n",
       "    </tr>\n",
       "    <tr>\n",
       "      <th>...</th>\n",
       "      <td>...</td>\n",
       "      <td>...</td>\n",
       "      <td>...</td>\n",
       "      <td>...</td>\n",
       "      <td>...</td>\n",
       "      <td>...</td>\n",
       "      <td>...</td>\n",
       "      <td>...</td>\n",
       "      <td>...</td>\n",
       "      <td>...</td>\n",
       "      <td>...</td>\n",
       "      <td>...</td>\n",
       "    </tr>\n",
       "    <tr>\n",
       "      <th>300148</th>\n",
       "      <td>300148</td>\n",
       "      <td>Vistara</td>\n",
       "      <td>UK-822</td>\n",
       "      <td>Chennai</td>\n",
       "      <td>Morning</td>\n",
       "      <td>one</td>\n",
       "      <td>Evening</td>\n",
       "      <td>Hyderabad</td>\n",
       "      <td>Business</td>\n",
       "      <td>10.08</td>\n",
       "      <td>49</td>\n",
       "      <td>69265</td>\n",
       "    </tr>\n",
       "    <tr>\n",
       "      <th>300149</th>\n",
       "      <td>300149</td>\n",
       "      <td>Vistara</td>\n",
       "      <td>UK-826</td>\n",
       "      <td>Chennai</td>\n",
       "      <td>Afternoon</td>\n",
       "      <td>one</td>\n",
       "      <td>Night</td>\n",
       "      <td>Hyderabad</td>\n",
       "      <td>Business</td>\n",
       "      <td>10.42</td>\n",
       "      <td>49</td>\n",
       "      <td>77105</td>\n",
       "    </tr>\n",
       "    <tr>\n",
       "      <th>300150</th>\n",
       "      <td>300150</td>\n",
       "      <td>Vistara</td>\n",
       "      <td>UK-832</td>\n",
       "      <td>Chennai</td>\n",
       "      <td>Early_Morning</td>\n",
       "      <td>one</td>\n",
       "      <td>Night</td>\n",
       "      <td>Hyderabad</td>\n",
       "      <td>Business</td>\n",
       "      <td>13.83</td>\n",
       "      <td>49</td>\n",
       "      <td>79099</td>\n",
       "    </tr>\n",
       "    <tr>\n",
       "      <th>300151</th>\n",
       "      <td>300151</td>\n",
       "      <td>Vistara</td>\n",
       "      <td>UK-828</td>\n",
       "      <td>Chennai</td>\n",
       "      <td>Early_Morning</td>\n",
       "      <td>one</td>\n",
       "      <td>Evening</td>\n",
       "      <td>Hyderabad</td>\n",
       "      <td>Business</td>\n",
       "      <td>10.00</td>\n",
       "      <td>49</td>\n",
       "      <td>81585</td>\n",
       "    </tr>\n",
       "    <tr>\n",
       "      <th>300152</th>\n",
       "      <td>300152</td>\n",
       "      <td>Vistara</td>\n",
       "      <td>UK-822</td>\n",
       "      <td>Chennai</td>\n",
       "      <td>Morning</td>\n",
       "      <td>one</td>\n",
       "      <td>Evening</td>\n",
       "      <td>Hyderabad</td>\n",
       "      <td>Business</td>\n",
       "      <td>10.08</td>\n",
       "      <td>49</td>\n",
       "      <td>81585</td>\n",
       "    </tr>\n",
       "  </tbody>\n",
       "</table>\n",
       "<p>300153 rows × 12 columns</p>\n",
       "</div>"
      ],
      "text/plain": [
       "        Unnamed: 0   airline   flight source_city departure_time stops  \\\n",
       "0                0  SpiceJet  SG-8709       Delhi        Evening  zero   \n",
       "1                1  SpiceJet  SG-8157       Delhi  Early_Morning  zero   \n",
       "2                2   AirAsia   I5-764       Delhi  Early_Morning  zero   \n",
       "3                3   Vistara   UK-995       Delhi        Morning  zero   \n",
       "4                4   Vistara   UK-963       Delhi        Morning  zero   \n",
       "...            ...       ...      ...         ...            ...   ...   \n",
       "300148      300148   Vistara   UK-822     Chennai        Morning   one   \n",
       "300149      300149   Vistara   UK-826     Chennai      Afternoon   one   \n",
       "300150      300150   Vistara   UK-832     Chennai  Early_Morning   one   \n",
       "300151      300151   Vistara   UK-828     Chennai  Early_Morning   one   \n",
       "300152      300152   Vistara   UK-822     Chennai        Morning   one   \n",
       "\n",
       "         arrival_time destination_city     class  duration  days_left  price  \n",
       "0               Night           Mumbai   Economy      2.17          1   5953  \n",
       "1             Morning           Mumbai   Economy      2.33          1   5953  \n",
       "2       Early_Morning           Mumbai   Economy      2.17          1   5956  \n",
       "3           Afternoon           Mumbai   Economy      2.25          1   5955  \n",
       "4             Morning           Mumbai   Economy      2.33          1   5955  \n",
       "...               ...              ...       ...       ...        ...    ...  \n",
       "300148        Evening        Hyderabad  Business     10.08         49  69265  \n",
       "300149          Night        Hyderabad  Business     10.42         49  77105  \n",
       "300150          Night        Hyderabad  Business     13.83         49  79099  \n",
       "300151        Evening        Hyderabad  Business     10.00         49  81585  \n",
       "300152        Evening        Hyderabad  Business     10.08         49  81585  \n",
       "\n",
       "[300153 rows x 12 columns]"
      ]
     },
     "execution_count": 3,
     "metadata": {},
     "output_type": "execute_result"
    }
   ],
   "source": [
    "df"
   ]
  },
  {
   "cell_type": "code",
   "execution_count": 4,
   "metadata": {},
   "outputs": [
    {
     "data": {
      "text/plain": [
       "Index(['Unnamed: 0', 'airline', 'flight', 'source_city', 'departure_time',\n",
       "       'stops', 'arrival_time', 'destination_city', 'class', 'duration',\n",
       "       'days_left', 'price'],\n",
       "      dtype='object')"
      ]
     },
     "execution_count": 4,
     "metadata": {},
     "output_type": "execute_result"
    }
   ],
   "source": [
    "df.columns"
   ]
  },
  {
   "cell_type": "code",
   "execution_count": 5,
   "metadata": {},
   "outputs": [],
   "source": [
    "df = df.drop(['Unnamed: 0'], axis=1)"
   ]
  },
  {
   "cell_type": "code",
   "execution_count": 6,
   "metadata": {},
   "outputs": [
    {
     "data": {
      "text/html": [
       "<div>\n",
       "<style scoped>\n",
       "    .dataframe tbody tr th:only-of-type {\n",
       "        vertical-align: middle;\n",
       "    }\n",
       "\n",
       "    .dataframe tbody tr th {\n",
       "        vertical-align: top;\n",
       "    }\n",
       "\n",
       "    .dataframe thead th {\n",
       "        text-align: right;\n",
       "    }\n",
       "</style>\n",
       "<table border=\"1\" class=\"dataframe\">\n",
       "  <thead>\n",
       "    <tr style=\"text-align: right;\">\n",
       "      <th></th>\n",
       "      <th>airline</th>\n",
       "      <th>flight</th>\n",
       "      <th>source_city</th>\n",
       "      <th>departure_time</th>\n",
       "      <th>stops</th>\n",
       "      <th>arrival_time</th>\n",
       "      <th>destination_city</th>\n",
       "      <th>class</th>\n",
       "      <th>duration</th>\n",
       "      <th>days_left</th>\n",
       "      <th>price</th>\n",
       "    </tr>\n",
       "  </thead>\n",
       "  <tbody>\n",
       "    <tr>\n",
       "      <th>0</th>\n",
       "      <td>SpiceJet</td>\n",
       "      <td>SG-8709</td>\n",
       "      <td>Delhi</td>\n",
       "      <td>Evening</td>\n",
       "      <td>zero</td>\n",
       "      <td>Night</td>\n",
       "      <td>Mumbai</td>\n",
       "      <td>Economy</td>\n",
       "      <td>2.17</td>\n",
       "      <td>1</td>\n",
       "      <td>5953</td>\n",
       "    </tr>\n",
       "    <tr>\n",
       "      <th>1</th>\n",
       "      <td>SpiceJet</td>\n",
       "      <td>SG-8157</td>\n",
       "      <td>Delhi</td>\n",
       "      <td>Early_Morning</td>\n",
       "      <td>zero</td>\n",
       "      <td>Morning</td>\n",
       "      <td>Mumbai</td>\n",
       "      <td>Economy</td>\n",
       "      <td>2.33</td>\n",
       "      <td>1</td>\n",
       "      <td>5953</td>\n",
       "    </tr>\n",
       "    <tr>\n",
       "      <th>2</th>\n",
       "      <td>AirAsia</td>\n",
       "      <td>I5-764</td>\n",
       "      <td>Delhi</td>\n",
       "      <td>Early_Morning</td>\n",
       "      <td>zero</td>\n",
       "      <td>Early_Morning</td>\n",
       "      <td>Mumbai</td>\n",
       "      <td>Economy</td>\n",
       "      <td>2.17</td>\n",
       "      <td>1</td>\n",
       "      <td>5956</td>\n",
       "    </tr>\n",
       "    <tr>\n",
       "      <th>3</th>\n",
       "      <td>Vistara</td>\n",
       "      <td>UK-995</td>\n",
       "      <td>Delhi</td>\n",
       "      <td>Morning</td>\n",
       "      <td>zero</td>\n",
       "      <td>Afternoon</td>\n",
       "      <td>Mumbai</td>\n",
       "      <td>Economy</td>\n",
       "      <td>2.25</td>\n",
       "      <td>1</td>\n",
       "      <td>5955</td>\n",
       "    </tr>\n",
       "    <tr>\n",
       "      <th>4</th>\n",
       "      <td>Vistara</td>\n",
       "      <td>UK-963</td>\n",
       "      <td>Delhi</td>\n",
       "      <td>Morning</td>\n",
       "      <td>zero</td>\n",
       "      <td>Morning</td>\n",
       "      <td>Mumbai</td>\n",
       "      <td>Economy</td>\n",
       "      <td>2.33</td>\n",
       "      <td>1</td>\n",
       "      <td>5955</td>\n",
       "    </tr>\n",
       "    <tr>\n",
       "      <th>...</th>\n",
       "      <td>...</td>\n",
       "      <td>...</td>\n",
       "      <td>...</td>\n",
       "      <td>...</td>\n",
       "      <td>...</td>\n",
       "      <td>...</td>\n",
       "      <td>...</td>\n",
       "      <td>...</td>\n",
       "      <td>...</td>\n",
       "      <td>...</td>\n",
       "      <td>...</td>\n",
       "    </tr>\n",
       "    <tr>\n",
       "      <th>300148</th>\n",
       "      <td>Vistara</td>\n",
       "      <td>UK-822</td>\n",
       "      <td>Chennai</td>\n",
       "      <td>Morning</td>\n",
       "      <td>one</td>\n",
       "      <td>Evening</td>\n",
       "      <td>Hyderabad</td>\n",
       "      <td>Business</td>\n",
       "      <td>10.08</td>\n",
       "      <td>49</td>\n",
       "      <td>69265</td>\n",
       "    </tr>\n",
       "    <tr>\n",
       "      <th>300149</th>\n",
       "      <td>Vistara</td>\n",
       "      <td>UK-826</td>\n",
       "      <td>Chennai</td>\n",
       "      <td>Afternoon</td>\n",
       "      <td>one</td>\n",
       "      <td>Night</td>\n",
       "      <td>Hyderabad</td>\n",
       "      <td>Business</td>\n",
       "      <td>10.42</td>\n",
       "      <td>49</td>\n",
       "      <td>77105</td>\n",
       "    </tr>\n",
       "    <tr>\n",
       "      <th>300150</th>\n",
       "      <td>Vistara</td>\n",
       "      <td>UK-832</td>\n",
       "      <td>Chennai</td>\n",
       "      <td>Early_Morning</td>\n",
       "      <td>one</td>\n",
       "      <td>Night</td>\n",
       "      <td>Hyderabad</td>\n",
       "      <td>Business</td>\n",
       "      <td>13.83</td>\n",
       "      <td>49</td>\n",
       "      <td>79099</td>\n",
       "    </tr>\n",
       "    <tr>\n",
       "      <th>300151</th>\n",
       "      <td>Vistara</td>\n",
       "      <td>UK-828</td>\n",
       "      <td>Chennai</td>\n",
       "      <td>Early_Morning</td>\n",
       "      <td>one</td>\n",
       "      <td>Evening</td>\n",
       "      <td>Hyderabad</td>\n",
       "      <td>Business</td>\n",
       "      <td>10.00</td>\n",
       "      <td>49</td>\n",
       "      <td>81585</td>\n",
       "    </tr>\n",
       "    <tr>\n",
       "      <th>300152</th>\n",
       "      <td>Vistara</td>\n",
       "      <td>UK-822</td>\n",
       "      <td>Chennai</td>\n",
       "      <td>Morning</td>\n",
       "      <td>one</td>\n",
       "      <td>Evening</td>\n",
       "      <td>Hyderabad</td>\n",
       "      <td>Business</td>\n",
       "      <td>10.08</td>\n",
       "      <td>49</td>\n",
       "      <td>81585</td>\n",
       "    </tr>\n",
       "  </tbody>\n",
       "</table>\n",
       "<p>300153 rows × 11 columns</p>\n",
       "</div>"
      ],
      "text/plain": [
       "         airline   flight source_city departure_time stops   arrival_time  \\\n",
       "0       SpiceJet  SG-8709       Delhi        Evening  zero          Night   \n",
       "1       SpiceJet  SG-8157       Delhi  Early_Morning  zero        Morning   \n",
       "2        AirAsia   I5-764       Delhi  Early_Morning  zero  Early_Morning   \n",
       "3        Vistara   UK-995       Delhi        Morning  zero      Afternoon   \n",
       "4        Vistara   UK-963       Delhi        Morning  zero        Morning   \n",
       "...          ...      ...         ...            ...   ...            ...   \n",
       "300148   Vistara   UK-822     Chennai        Morning   one        Evening   \n",
       "300149   Vistara   UK-826     Chennai      Afternoon   one          Night   \n",
       "300150   Vistara   UK-832     Chennai  Early_Morning   one          Night   \n",
       "300151   Vistara   UK-828     Chennai  Early_Morning   one        Evening   \n",
       "300152   Vistara   UK-822     Chennai        Morning   one        Evening   \n",
       "\n",
       "       destination_city     class  duration  days_left  price  \n",
       "0                Mumbai   Economy      2.17          1   5953  \n",
       "1                Mumbai   Economy      2.33          1   5953  \n",
       "2                Mumbai   Economy      2.17          1   5956  \n",
       "3                Mumbai   Economy      2.25          1   5955  \n",
       "4                Mumbai   Economy      2.33          1   5955  \n",
       "...                 ...       ...       ...        ...    ...  \n",
       "300148        Hyderabad  Business     10.08         49  69265  \n",
       "300149        Hyderabad  Business     10.42         49  77105  \n",
       "300150        Hyderabad  Business     13.83         49  79099  \n",
       "300151        Hyderabad  Business     10.00         49  81585  \n",
       "300152        Hyderabad  Business     10.08         49  81585  \n",
       "\n",
       "[300153 rows x 11 columns]"
      ]
     },
     "execution_count": 6,
     "metadata": {},
     "output_type": "execute_result"
    }
   ],
   "source": [
    "df"
   ]
  },
  {
   "cell_type": "code",
   "execution_count": 7,
   "metadata": {},
   "outputs": [
    {
     "data": {
      "text/html": [
       "<div>\n",
       "<style scoped>\n",
       "    .dataframe tbody tr th:only-of-type {\n",
       "        vertical-align: middle;\n",
       "    }\n",
       "\n",
       "    .dataframe tbody tr th {\n",
       "        vertical-align: top;\n",
       "    }\n",
       "\n",
       "    .dataframe thead th {\n",
       "        text-align: right;\n",
       "    }\n",
       "</style>\n",
       "<table border=\"1\" class=\"dataframe\">\n",
       "  <thead>\n",
       "    <tr style=\"text-align: right;\">\n",
       "      <th></th>\n",
       "      <th>duration</th>\n",
       "      <th>days_left</th>\n",
       "      <th>price</th>\n",
       "    </tr>\n",
       "  </thead>\n",
       "  <tbody>\n",
       "    <tr>\n",
       "      <th>count</th>\n",
       "      <td>300153.000000</td>\n",
       "      <td>300153.000000</td>\n",
       "      <td>300153.000000</td>\n",
       "    </tr>\n",
       "    <tr>\n",
       "      <th>mean</th>\n",
       "      <td>12.221021</td>\n",
       "      <td>26.004751</td>\n",
       "      <td>20889.660523</td>\n",
       "    </tr>\n",
       "    <tr>\n",
       "      <th>std</th>\n",
       "      <td>7.191997</td>\n",
       "      <td>13.561004</td>\n",
       "      <td>22697.767366</td>\n",
       "    </tr>\n",
       "    <tr>\n",
       "      <th>min</th>\n",
       "      <td>0.830000</td>\n",
       "      <td>1.000000</td>\n",
       "      <td>1105.000000</td>\n",
       "    </tr>\n",
       "    <tr>\n",
       "      <th>25%</th>\n",
       "      <td>6.830000</td>\n",
       "      <td>15.000000</td>\n",
       "      <td>4783.000000</td>\n",
       "    </tr>\n",
       "    <tr>\n",
       "      <th>50%</th>\n",
       "      <td>11.250000</td>\n",
       "      <td>26.000000</td>\n",
       "      <td>7425.000000</td>\n",
       "    </tr>\n",
       "    <tr>\n",
       "      <th>75%</th>\n",
       "      <td>16.170000</td>\n",
       "      <td>38.000000</td>\n",
       "      <td>42521.000000</td>\n",
       "    </tr>\n",
       "    <tr>\n",
       "      <th>max</th>\n",
       "      <td>49.830000</td>\n",
       "      <td>49.000000</td>\n",
       "      <td>123071.000000</td>\n",
       "    </tr>\n",
       "  </tbody>\n",
       "</table>\n",
       "</div>"
      ],
      "text/plain": [
       "            duration      days_left          price\n",
       "count  300153.000000  300153.000000  300153.000000\n",
       "mean       12.221021      26.004751   20889.660523\n",
       "std         7.191997      13.561004   22697.767366\n",
       "min         0.830000       1.000000    1105.000000\n",
       "25%         6.830000      15.000000    4783.000000\n",
       "50%        11.250000      26.000000    7425.000000\n",
       "75%        16.170000      38.000000   42521.000000\n",
       "max        49.830000      49.000000  123071.000000"
      ]
     },
     "execution_count": 7,
     "metadata": {},
     "output_type": "execute_result"
    }
   ],
   "source": [
    "df.describe()"
   ]
  },
  {
   "cell_type": "code",
   "execution_count": 8,
   "metadata": {},
   "outputs": [
    {
     "data": {
      "text/plain": [
       "<Axes: >"
      ]
     },
     "execution_count": 8,
     "metadata": {},
     "output_type": "execute_result"
    },
    {
     "data": {
      "image/png": "[encoded data removed]",
      "text/plain": [
       "<Figure size 640x480 with 1 Axes>"
      ]
     },
     "metadata": {},
     "output_type": "display_data"
    }
   ],
   "source": [
    "df.duration.hist()"
   ]
  },
  {
   "cell_type": "code",
   "execution_count": 9,
   "metadata": {},
   "outputs": [
    {
     "data": {
      "text/plain": [
       "<Axes: >"
      ]
     },
     "execution_count": 9,
     "metadata": {},
     "output_type": "execute_result"
    },
    {
     "data": {
      "image/png": "[encoded data removed]",
      "text/plain": [
       "<Figure size 640x480 with 1 Axes>"
      ]
     },
     "metadata": {},
     "output_type": "display_data"
    }
   ],
   "source": [
    "df.days_left.hist()"
   ]
  },
  {
   "cell_type": "code",
   "execution_count": 10,
   "metadata": {},
   "outputs": [
    {
     "data": {
      "text/plain": [
       "<Axes: >"
      ]
     },
     "execution_count": 10,
     "metadata": {},
     "output_type": "execute_result"
    },
    {
     "data": {
      "image/png": "[encoded data removed]",
      "text/plain": [
       "<Figure size 640x480 with 1 Axes>"
      ]
     },
     "metadata": {},
     "output_type": "display_data"
    }
   ],
   "source": [
    "df.price.hist()"
   ]
  },
  {
   "cell_type": "code",
   "execution_count": 11,
   "metadata": {},
   "outputs": [
    {
     "data": {
      "text/plain": [
       "<Axes: >"
      ]
     },
     "execution_count": 11,
     "metadata": {},
     "output_type": "execute_result"
    },
    {
     "data": {
      "image/png": "[encoded data removed]",
      "text/plain": [
       "<Figure size 640x480 with 1 Axes>"
      ]
     },
     "metadata": {},
     "output_type": "display_data"
    }
   ],
   "source": [
    "df.boxplot(column = ['duration', 'days_left'])"
   ]
  },
  {
   "cell_type": "code",
   "execution_count": 12,
   "metadata": {},
   "outputs": [
    {
     "data": {
      "text/html": [
       "<div>\n",
       "<style scoped>\n",
       "    .dataframe tbody tr th:only-of-type {\n",
       "        vertical-align: middle;\n",
       "    }\n",
       "\n",
       "    .dataframe tbody tr th {\n",
       "        vertical-align: top;\n",
       "    }\n",
       "\n",
       "    .dataframe thead th {\n",
       "        text-align: right;\n",
       "    }\n",
       "</style>\n",
       "<table border=\"1\" class=\"dataframe\">\n",
       "  <thead>\n",
       "    <tr style=\"text-align: right;\">\n",
       "      <th></th>\n",
       "      <th>duration</th>\n",
       "      <th>days_left</th>\n",
       "      <th>price</th>\n",
       "    </tr>\n",
       "  </thead>\n",
       "  <tbody>\n",
       "    <tr>\n",
       "      <th>duration</th>\n",
       "      <td>1.000000</td>\n",
       "      <td>-0.039157</td>\n",
       "      <td>0.204222</td>\n",
       "    </tr>\n",
       "    <tr>\n",
       "      <th>days_left</th>\n",
       "      <td>-0.039157</td>\n",
       "      <td>1.000000</td>\n",
       "      <td>-0.091949</td>\n",
       "    </tr>\n",
       "    <tr>\n",
       "      <th>price</th>\n",
       "      <td>0.204222</td>\n",
       "      <td>-0.091949</td>\n",
       "      <td>1.000000</td>\n",
       "    </tr>\n",
       "  </tbody>\n",
       "</table>\n",
       "</div>"
      ],
      "text/plain": [
       "           duration  days_left     price\n",
       "duration   1.000000  -0.039157  0.204222\n",
       "days_left -0.039157   1.000000 -0.091949\n",
       "price      0.204222  -0.091949  1.000000"
      ]
     },
     "execution_count": 12,
     "metadata": {},
     "output_type": "execute_result"
    }
   ],
   "source": [
    "df[['duration', 'days_left', 'price']].corr()"
   ]
  },
  {
   "cell_type": "code",
   "execution_count": 13,
   "metadata": {},
   "outputs": [
    {
     "data": {
      "text/plain": [
       "<Axes: >"
      ]
     },
     "execution_count": 13,
     "metadata": {},
     "output_type": "execute_result"
    },
    {
     "data": {
      "image/png": "[encoded data removed]",
      "text/plain": [
       "<Figure size 640x480 with 2 Axes>"
      ]
     },
     "metadata": {},
     "output_type": "display_data"
    }
   ],
   "source": [
    "cmap = sns.diverging_palette(220, 10, as_cmap=True)\n",
    "sns.heatmap(df[['duration', 'days_left', 'price']].corr(), vmax =.3, center=0, cmap=cmap,\n",
    "           square=True, linewidths=.5, cbar_kws={\"shrink\": .5})"
   ]
  },
  {
   "cell_type": "code",
   "execution_count": 14,
   "metadata": {},
   "outputs": [
    {
     "data": {
      "text/plain": [
       "Index(['airline', 'flight', 'source_city', 'departure_time', 'stops',\n",
       "       'arrival_time', 'destination_city', 'class', 'duration', 'days_left',\n",
       "       'price'],\n",
       "      dtype='object')"
      ]
     },
     "execution_count": 14,
     "metadata": {},
     "output_type": "execute_result"
    }
   ],
   "source": [
    "df.columns"
   ]
  },
  {
   "cell_type": "code",
   "execution_count": 15,
   "metadata": {},
   "outputs": [],
   "source": [
    "df_categorical = df[['airline', 'source_city', 'departure_time', 'stops', 'destination_city', 'class']]"
   ]
  },
  {
   "cell_type": "code",
   "execution_count": 16,
   "metadata": {},
   "outputs": [
    {
     "data": {
      "image/png": "[encoded data removed]",
      "text/plain": [
       "<Figure size 640x480 with 1 Axes>"
      ]
     },
     "metadata": {},
     "output_type": "display_data"
    },
    {
     "data": {
      "image/png": "[encoded data removed]",
      "text/plain": [
       "<Figure size 640x480 with 1 Axes>"
      ]
     },
     "metadata": {},
     "output_type": "display_data"
    },
    {
     "data": {
      "image/png": "[encoded data removed]",
      "text/plain": [
       "<Figure size 640x480 with 1 Axes>"
      ]
     },
     "metadata": {},
     "output_type": "display_data"
    },
    {
     "data": {
      "image/png": "[encoded data removed]",
      "text/plain": [
       "<Figure size 640x480 with 1 Axes>"
      ]
     },
     "metadata": {},
     "output_type": "display_data"
    },
    {
     "data": {
      "image/png": "[encoded data removed]",
      "text/plain": [
       "<Figure size 640x480 with 1 Axes>"
      ]
     },
     "metadata": {},
     "output_type": "display_data"
    },
    {
     "data": {
      "image/png": "[encoded data removed]",
      "text/plain": [
       "<Figure size 640x480 with 1 Axes>"
      ]
     },
     "metadata": {},
     "output_type": "display_data"
    }
   ],
   "source": [
    "for i in df_categorical.columns:\n",
    "    cat_num = df_categorical[i].value_counts()\n",
    "    sns.barplot(x=cat_num.index, y=cat_num)\n",
    "    plt.show()"
   ]
  },
  {
   "cell_type": "code",
   "execution_count": 17,
   "metadata": {},
   "outputs": [
    {
     "name": "stdout",
     "output_type": "stream",
     "text": [
      "Object `Airlines` not found.\n"
     ]
    }
   ],
   "source": [
    "Does price vary with Airlines?"
   ]
  },
  {
   "cell_type": "code",
   "execution_count": 18,
   "metadata": {},
   "outputs": [
    {
     "data": {
      "image/png": "[encoded data removed]",
      "text/plain": [
       "<Figure size 640x480 with 1 Axes>"
      ]
     },
     "metadata": {},
     "output_type": "display_data"
    }
   ],
   "source": [
    "sns.boxplot(x='airline', y='price', data=df)\n",
    "plt.title('Price by Airlines')\n",
    "plt.xlabel('Airline')\n",
    "plt.ylabel('Price');"
   ]
  },
  {
   "cell_type": "code",
   "execution_count": 19,
   "metadata": {},
   "outputs": [
    {
     "data": {
      "image/png": "[encoded data removed]",
      "text/plain": [
       "<Figure size 640x480 with 1 Axes>"
      ]
     },
     "metadata": {},
     "output_type": "display_data"
    }
   ],
   "source": [
    "sns.set_style('whitegrid')\n",
    "sns.lineplot(x='days_left', y='price', hue='airline', data=df, errorbar=None)\n",
    "plt.xticks(range(df['days_left'].min(), df['days_left'].max(), 3))\n",
    "plt.title('Price VS. Number of Days before Departure')\n",
    "plt.ylabel('Price')\n",
    "plt.xlabel('Number of Days before Departure');"
   ]
  },
  {
   "cell_type": "code",
   "execution_count": 20,
   "metadata": {},
   "outputs": [
    {
     "data": {
      "text/html": [
       "<div>\n",
       "<style scoped>\n",
       "    .dataframe tbody tr th:only-of-type {\n",
       "        vertical-align: middle;\n",
       "    }\n",
       "\n",
       "    .dataframe tbody tr th {\n",
       "        vertical-align: top;\n",
       "    }\n",
       "\n",
       "    .dataframe thead th {\n",
       "        text-align: right;\n",
       "    }\n",
       "</style>\n",
       "<table border=\"1\" class=\"dataframe\">\n",
       "  <thead>\n",
       "    <tr style=\"text-align: right;\">\n",
       "      <th></th>\n",
       "      <th></th>\n",
       "      <th>price</th>\n",
       "    </tr>\n",
       "    <tr>\n",
       "      <th>class</th>\n",
       "      <th>airline</th>\n",
       "      <th></th>\n",
       "    </tr>\n",
       "  </thead>\n",
       "  <tbody>\n",
       "    <tr>\n",
       "      <th rowspan=\"2\" valign=\"top\">Business</th>\n",
       "      <th>Air_India</th>\n",
       "      <td>47131.039212</td>\n",
       "    </tr>\n",
       "    <tr>\n",
       "      <th>Vistara</th>\n",
       "      <td>55477.027777</td>\n",
       "    </tr>\n",
       "    <tr>\n",
       "      <th rowspan=\"6\" valign=\"top\">Economy</th>\n",
       "      <th>AirAsia</th>\n",
       "      <td>4091.072742</td>\n",
       "    </tr>\n",
       "    <tr>\n",
       "      <th>Air_India</th>\n",
       "      <td>7313.682169</td>\n",
       "    </tr>\n",
       "    <tr>\n",
       "      <th>GO_FIRST</th>\n",
       "      <td>5652.007595</td>\n",
       "    </tr>\n",
       "    <tr>\n",
       "      <th>Indigo</th>\n",
       "      <td>5324.216303</td>\n",
       "    </tr>\n",
       "    <tr>\n",
       "      <th>SpiceJet</th>\n",
       "      <td>6179.278881</td>\n",
       "    </tr>\n",
       "    <tr>\n",
       "      <th>Vistara</th>\n",
       "      <td>7806.943645</td>\n",
       "    </tr>\n",
       "  </tbody>\n",
       "</table>\n",
       "</div>"
      ],
      "text/plain": [
       "                           price\n",
       "class    airline                \n",
       "Business Air_India  47131.039212\n",
       "         Vistara    55477.027777\n",
       "Economy  AirAsia     4091.072742\n",
       "         Air_India   7313.682169\n",
       "         GO_FIRST    5652.007595\n",
       "         Indigo      5324.216303\n",
       "         SpiceJet    6179.278881\n",
       "         Vistara     7806.943645"
      ]
     },
     "execution_count": 20,
     "metadata": {},
     "output_type": "execute_result"
    }
   ],
   "source": [
    "pd.pivot_table(df, index = ['class', 'airline'], values = 'price')"
   ]
  },
  {
   "cell_type": "code",
   "execution_count": 21,
   "metadata": {},
   "outputs": [
    {
     "data": {
      "text/html": [
       "<div>\n",
       "<style scoped>\n",
       "    .dataframe tbody tr th:only-of-type {\n",
       "        vertical-align: middle;\n",
       "    }\n",
       "\n",
       "    .dataframe tbody tr th {\n",
       "        vertical-align: top;\n",
       "    }\n",
       "\n",
       "    .dataframe thead th {\n",
       "        text-align: right;\n",
       "    }\n",
       "</style>\n",
       "<table border=\"1\" class=\"dataframe\">\n",
       "  <thead>\n",
       "    <tr style=\"text-align: right;\">\n",
       "      <th></th>\n",
       "      <th></th>\n",
       "      <th></th>\n",
       "      <th>price</th>\n",
       "    </tr>\n",
       "    <tr>\n",
       "      <th>stops</th>\n",
       "      <th>source_city</th>\n",
       "      <th>destination_city</th>\n",
       "      <th></th>\n",
       "    </tr>\n",
       "  </thead>\n",
       "  <tbody>\n",
       "    <tr>\n",
       "      <th rowspan=\"5\" valign=\"top\">one</th>\n",
       "      <th rowspan=\"5\" valign=\"top\">Bangalore</th>\n",
       "      <th>Chennai</th>\n",
       "      <td>25679.430625</td>\n",
       "    </tr>\n",
       "    <tr>\n",
       "      <th>Delhi</th>\n",
       "      <td>18854.887192</td>\n",
       "    </tr>\n",
       "    <tr>\n",
       "      <th>Hyderabad</th>\n",
       "      <td>23809.756654</td>\n",
       "    </tr>\n",
       "    <tr>\n",
       "      <th>Kolkata</th>\n",
       "      <td>26144.031214</td>\n",
       "    </tr>\n",
       "    <tr>\n",
       "      <th>Mumbai</th>\n",
       "      <td>25806.215613</td>\n",
       "    </tr>\n",
       "    <tr>\n",
       "      <th>...</th>\n",
       "      <th>...</th>\n",
       "      <th>...</th>\n",
       "      <td>...</td>\n",
       "    </tr>\n",
       "    <tr>\n",
       "      <th rowspan=\"5\" valign=\"top\">zero</th>\n",
       "      <th rowspan=\"5\" valign=\"top\">Mumbai</th>\n",
       "      <th>Bangalore</th>\n",
       "      <td>7369.560513</td>\n",
       "    </tr>\n",
       "    <tr>\n",
       "      <th>Chennai</th>\n",
       "      <td>8975.697802</td>\n",
       "    </tr>\n",
       "    <tr>\n",
       "      <th>Delhi</th>\n",
       "      <td>10969.784100</td>\n",
       "    </tr>\n",
       "    <tr>\n",
       "      <th>Hyderabad</th>\n",
       "      <td>7232.047865</td>\n",
       "    </tr>\n",
       "    <tr>\n",
       "      <th>Kolkata</th>\n",
       "      <td>10672.198285</td>\n",
       "    </tr>\n",
       "  </tbody>\n",
       "</table>\n",
       "<p>90 rows × 1 columns</p>\n",
       "</div>"
      ],
      "text/plain": [
       "                                           price\n",
       "stops source_city destination_city              \n",
       "one   Bangalore   Chennai           25679.430625\n",
       "                  Delhi             18854.887192\n",
       "                  Hyderabad         23809.756654\n",
       "                  Kolkata           26144.031214\n",
       "                  Mumbai            25806.215613\n",
       "...                                          ...\n",
       "zero  Mumbai      Bangalore          7369.560513\n",
       "                  Chennai            8975.697802\n",
       "                  Delhi             10969.784100\n",
       "                  Hyderabad          7232.047865\n",
       "                  Kolkata           10672.198285\n",
       "\n",
       "[90 rows x 1 columns]"
      ]
     },
     "execution_count": 21,
     "metadata": {},
     "output_type": "execute_result"
    }
   ],
   "source": [
    "pd.pivot_table(df, index = ['stops', 'source_city', 'destination_city'] , values = 'price')"
   ]
  },
  {
   "cell_type": "code",
   "execution_count": 22,
   "metadata": {
    "colab": {
     "base_uri": "https://localhost:8080/"
    },
    "executionInfo": {
     "elapsed": 233,
     "status": "ok",
     "timestamp": 1685371117244,
     "user": {
      "displayName": "Caio Cesar Beleza",
      "userId": "00767076793462410646"
     },
     "user_tz": 180
    },
    "id": "roy22AQiH7rr",
    "outputId": "56d2a0b5-79e3-44be-99e1-bc5097d7af64"
   },
   "outputs": [
    {
     "data": {
      "text/plain": [
       "airline\n",
       "AirAsia       16098\n",
       "Air_India     80892\n",
       "GO_FIRST      23173\n",
       "Indigo        43120\n",
       "SpiceJet       9011\n",
       "Vistara      127859\n",
       "dtype: int64"
      ]
     },
     "execution_count": 22,
     "metadata": {},
     "output_type": "execute_result"
    }
   ],
   "source": [
    "df.groupby(['airline']).size()"
   ]
  },
  {
   "cell_type": "code",
   "execution_count": 23,
   "metadata": {
    "colab": {
     "base_uri": "https://localhost:8080/"
    },
    "executionInfo": {
     "elapsed": 245,
     "status": "ok",
     "timestamp": 1685371119769,
     "user": {
      "displayName": "Caio Cesar Beleza",
      "userId": "00767076793462410646"
     },
     "user_tz": 180
    },
    "id": "sUL9nEyYIQgC",
    "outputId": "8b2c186e-80e8-4a4c-97ca-524d3cfedbbf"
   },
   "outputs": [
    {
     "data": {
      "text/plain": [
       "source_city\n",
       "Bangalore    52061\n",
       "Chennai      38700\n",
       "Delhi        61343\n",
       "Hyderabad    40806\n",
       "Kolkata      46347\n",
       "Mumbai       60896\n",
       "dtype: int64"
      ]
     },
     "execution_count": 23,
     "metadata": {},
     "output_type": "execute_result"
    }
   ],
   "source": [
    "df.groupby(['source_city']).size()"
   ]
  },
  {
   "cell_type": "code",
   "execution_count": 24,
   "metadata": {
    "colab": {
     "base_uri": "https://localhost:8080/"
    },
    "executionInfo": {
     "elapsed": 258,
     "status": "ok",
     "timestamp": 1685371122065,
     "user": {
      "displayName": "Caio Cesar Beleza",
      "userId": "00767076793462410646"
     },
     "user_tz": 180
    },
    "id": "UMZdCSDfIV_7",
    "outputId": "bcbbfd81-9ff5-46ca-b3d9-675121bb1b6f"
   },
   "outputs": [
    {
     "data": {
      "text/plain": [
       "departure_time\n",
       "Afternoon        47794\n",
       "Early_Morning    66790\n",
       "Evening          65102\n",
       "Late_Night        1306\n",
       "Morning          71146\n",
       "Night            48015\n",
       "dtype: int64"
      ]
     },
     "execution_count": 24,
     "metadata": {},
     "output_type": "execute_result"
    }
   ],
   "source": [
    "df.groupby(['departure_time']).size()"
   ]
  },
  {
   "cell_type": "code",
   "execution_count": 25,
   "metadata": {
    "colab": {
     "base_uri": "https://localhost:8080/"
    },
    "executionInfo": {
     "elapsed": 340,
     "status": "ok",
     "timestamp": 1685371123959,
     "user": {
      "displayName": "Caio Cesar Beleza",
      "userId": "00767076793462410646"
     },
     "user_tz": 180
    },
    "id": "6hTMWEiDIxrf",
    "outputId": "814af8e8-176a-4314-f86f-638c26fa4e6d"
   },
   "outputs": [
    {
     "data": {
      "text/plain": [
       "stops\n",
       "one            250863\n",
       "two_or_more     13286\n",
       "zero            36004\n",
       "dtype: int64"
      ]
     },
     "execution_count": 25,
     "metadata": {},
     "output_type": "execute_result"
    }
   ],
   "source": [
    "df.groupby(['stops']).size()"
   ]
  },
  {
   "cell_type": "code",
   "execution_count": 26,
   "metadata": {
    "colab": {
     "base_uri": "https://localhost:8080/"
    },
    "executionInfo": {
     "elapsed": 400,
     "status": "ok",
     "timestamp": 1685371126242,
     "user": {
      "displayName": "Caio Cesar Beleza",
      "userId": "00767076793462410646"
     },
     "user_tz": 180
    },
    "id": "-2DLJwfKIztJ",
    "outputId": "80841f93-d62e-4cb3-809a-5cee5f2228de"
   },
   "outputs": [
    {
     "data": {
      "text/plain": [
       "arrival_time\n",
       "Afternoon        38139\n",
       "Early_Morning    15417\n",
       "Evening          78323\n",
       "Late_Night       14001\n",
       "Morning          62735\n",
       "Night            91538\n",
       "dtype: int64"
      ]
     },
     "execution_count": 26,
     "metadata": {},
     "output_type": "execute_result"
    }
   ],
   "source": [
    "df.groupby(['arrival_time']).size()"
   ]
  },
  {
   "cell_type": "code",
   "execution_count": 27,
   "metadata": {
    "colab": {
     "base_uri": "https://localhost:8080/"
    },
    "executionInfo": {
     "elapsed": 262,
     "status": "ok",
     "timestamp": 1685371127966,
     "user": {
      "displayName": "Caio Cesar Beleza",
      "userId": "00767076793462410646"
     },
     "user_tz": 180
    },
    "id": "KIa0XDXQI393",
    "outputId": "405fc263-9e5b-46e4-e484-cf9362be4826"
   },
   "outputs": [
    {
     "data": {
      "text/plain": [
       "destination_city\n",
       "Bangalore    51068\n",
       "Chennai      40368\n",
       "Delhi        57360\n",
       "Hyderabad    42726\n",
       "Kolkata      49534\n",
       "Mumbai       59097\n",
       "dtype: int64"
      ]
     },
     "execution_count": 27,
     "metadata": {},
     "output_type": "execute_result"
    }
   ],
   "source": [
    "df.groupby(['destination_city']).size()"
   ]
  },
  {
   "cell_type": "code",
   "execution_count": 28,
   "metadata": {
    "colab": {
     "base_uri": "https://localhost:8080/"
    },
    "executionInfo": {
     "elapsed": 450,
     "status": "ok",
     "timestamp": 1685371136952,
     "user": {
      "displayName": "Caio Cesar Beleza",
      "userId": "00767076793462410646"
     },
     "user_tz": 180
    },
    "id": "q3w8kQ10I8p0",
    "outputId": "2e45961b-23c9-4f27-f286-374b44be11e5"
   },
   "outputs": [
    {
     "data": {
      "text/plain": [
       "class\n",
       "Business     93487\n",
       "Economy     206666\n",
       "dtype: int64"
      ]
     },
     "execution_count": 28,
     "metadata": {},
     "output_type": "execute_result"
    }
   ],
   "source": [
    "df.groupby(['class']).size()"
   ]
  },
  {
   "cell_type": "code",
   "execution_count": 29,
   "metadata": {
    "colab": {
     "base_uri": "https://localhost:8080/"
    },
    "executionInfo": {
     "elapsed": 557,
     "status": "ok",
     "timestamp": 1685371133876,
     "user": {
      "displayName": "Caio Cesar Beleza",
      "userId": "00767076793462410646"
     },
     "user_tz": 180
    },
    "id": "F3pE-v-4JHSJ",
    "outputId": "91ecf35c-10eb-4958-cd99-58f147303892"
   },
   "outputs": [
    {
     "data": {
      "text/plain": [
       "duration\n",
       "0.83      52\n",
       "0.92      78\n",
       "1.00     377\n",
       "1.08     553\n",
       "1.17     960\n",
       "        ... \n",
       "44.50      1\n",
       "45.83      3\n",
       "47.08      1\n",
       "47.75      2\n",
       "49.83      2\n",
       "Length: 476, dtype: int64"
      ]
     },
     "execution_count": 29,
     "metadata": {},
     "output_type": "execute_result"
    }
   ],
   "source": [
    "df.groupby(['duration']).size()"
   ]
  },
  {
   "cell_type": "code",
   "execution_count": 30,
   "metadata": {
    "colab": {
     "base_uri": "https://localhost:8080/"
    },
    "executionInfo": {
     "elapsed": 292,
     "status": "ok",
     "timestamp": 1685371139567,
     "user": {
      "displayName": "Caio Cesar Beleza",
      "userId": "00767076793462410646"
     },
     "user_tz": 180
    },
    "id": "tROAYI7OJWnV",
    "outputId": "31790e68-a923-4651-96b6-69b34a09ec19"
   },
   "outputs": [
    {
     "data": {
      "text/plain": [
       "days_left\n",
       "1     1927\n",
       "2     4026\n",
       "3     4248\n",
       "4     5077\n",
       "5     5392\n",
       "6     5740\n",
       "7     5703\n",
       "8     5767\n",
       "9     5665\n",
       "10    5822\n",
       "11    6417\n",
       "12    6381\n",
       "13    6404\n",
       "14    6349\n",
       "15    6340\n",
       "16    6272\n",
       "17    6419\n",
       "18    6602\n",
       "19    6537\n",
       "20    6502\n",
       "21    6479\n",
       "22    6494\n",
       "23    6401\n",
       "24    6542\n",
       "25    6633\n",
       "26    6573\n",
       "27    6360\n",
       "28    6522\n",
       "29    6397\n",
       "30    6501\n",
       "31    6534\n",
       "32    6585\n",
       "33    6532\n",
       "34    6412\n",
       "35    6291\n",
       "36    6490\n",
       "37    6476\n",
       "38    6512\n",
       "39    6593\n",
       "40    6531\n",
       "41    6525\n",
       "42    6497\n",
       "43    6472\n",
       "44    6436\n",
       "45    6314\n",
       "46    6160\n",
       "47    6069\n",
       "48    6078\n",
       "49    6154\n",
       "dtype: int64"
      ]
     },
     "execution_count": 30,
     "metadata": {},
     "output_type": "execute_result"
    }
   ],
   "source": [
    "df.groupby(['days_left']).size()"
   ]
  },
  {
   "cell_type": "code",
   "execution_count": 31,
   "metadata": {
    "colab": {
     "base_uri": "https://localhost:8080/"
    },
    "executionInfo": {
     "elapsed": 273,
     "status": "ok",
     "timestamp": 1685371142351,
     "user": {
      "displayName": "Caio Cesar Beleza",
      "userId": "00767076793462410646"
     },
     "user_tz": 180
    },
    "id": "Q-QsencIJd00",
    "outputId": "74ca7ed5-4d5b-4470-f052-b82c16d8a5b6"
   },
   "outputs": [
    {
     "data": {
      "text/plain": [
       "price\n",
       "1105      300\n",
       "1106        7\n",
       "1443      180\n",
       "1444       14\n",
       "1526       20\n",
       "         ... \n",
       "114705      1\n",
       "115211      1\n",
       "116562      1\n",
       "117307      1\n",
       "123071      1\n",
       "Length: 12157, dtype: int64"
      ]
     },
     "execution_count": 31,
     "metadata": {},
     "output_type": "execute_result"
    }
   ],
   "source": [
    "df.groupby(['price']).size()"
   ]
  },
  {
   "cell_type": "code",
   "execution_count": 32,
   "metadata": {
    "colab": {
     "base_uri": "https://localhost:8080/"
    },
    "executionInfo": {
     "elapsed": 547,
     "status": "ok",
     "timestamp": 1685371144360,
     "user": {
      "displayName": "Caio Cesar Beleza",
      "userId": "00767076793462410646"
     },
     "user_tz": 180
    },
    "id": "wvzRiVvcNMPJ",
    "outputId": "0e4e30f2-37be-42bd-9af3-a77fc1177fa2"
   },
   "outputs": [
    {
     "data": {
      "text/plain": [
       "airline             0\n",
       "flight              0\n",
       "source_city         0\n",
       "departure_time      0\n",
       "stops               0\n",
       "arrival_time        0\n",
       "destination_city    0\n",
       "class               0\n",
       "duration            0\n",
       "days_left           0\n",
       "price               0\n",
       "dtype: int64"
      ]
     },
     "execution_count": 32,
     "metadata": {},
     "output_type": "execute_result"
    }
   ],
   "source": [
    "df.isnull().sum()"
   ]
  },
  {
   "cell_type": "code",
   "execution_count": 33,
   "metadata": {
    "executionInfo": {
     "elapsed": 254,
     "status": "ok",
     "timestamp": 1685371146731,
     "user": {
      "displayName": "Caio Cesar Beleza",
      "userId": "00767076793462410646"
     },
     "user_tz": 180
    },
    "id": "othSldDxNcsZ"
   },
   "outputs": [],
   "source": [
    "le = preprocessing.LabelEncoder()\n",
    "df['airline'] = le.fit_transform(df['airline'])"
   ]
  },
  {
   "cell_type": "code",
   "execution_count": 34,
   "metadata": {
    "executionInfo": {
     "elapsed": 238,
     "status": "ok",
     "timestamp": 1685371148398,
     "user": {
      "displayName": "Caio Cesar Beleza",
      "userId": "00767076793462410646"
     },
     "user_tz": 180
    },
    "id": "t6G_OBlm3u6z"
   },
   "outputs": [],
   "source": [
    "le = preprocessing.LabelEncoder()\n",
    "df['source_city'] = le.fit_transform(df['source_city'])"
   ]
  },
  {
   "cell_type": "code",
   "execution_count": 35,
   "metadata": {
    "executionInfo": {
     "elapsed": 302,
     "status": "ok",
     "timestamp": 1685371150138,
     "user": {
      "displayName": "Caio Cesar Beleza",
      "userId": "00767076793462410646"
     },
     "user_tz": 180
    },
    "id": "Vfja13bd30zq"
   },
   "outputs": [],
   "source": [
    "le = preprocessing.LabelEncoder()\n",
    "df['departure_time'] = le.fit_transform(df['departure_time'])"
   ]
  },
  {
   "cell_type": "code",
   "execution_count": 36,
   "metadata": {
    "executionInfo": {
     "elapsed": 257,
     "status": "ok",
     "timestamp": 1685371151731,
     "user": {
      "displayName": "Caio Cesar Beleza",
      "userId": "00767076793462410646"
     },
     "user_tz": 180
    },
    "id": "STNm0e3e35w1"
   },
   "outputs": [],
   "source": [
    "le = preprocessing.LabelEncoder()\n",
    "df['stops'] = le.fit_transform(df['stops'])"
   ]
  },
  {
   "cell_type": "code",
   "execution_count": 37,
   "metadata": {
    "executionInfo": {
     "elapsed": 241,
     "status": "ok",
     "timestamp": 1685371153723,
     "user": {
      "displayName": "Caio Cesar Beleza",
      "userId": "00767076793462410646"
     },
     "user_tz": 180
    },
    "id": "g--l_4qS39Sq"
   },
   "outputs": [],
   "source": [
    "le = preprocessing.LabelEncoder()\n",
    "df['arrival_time'] = le.fit_transform(df['arrival_time'])"
   ]
  },
  {
   "cell_type": "code",
   "execution_count": 38,
   "metadata": {
    "executionInfo": {
     "elapsed": 565,
     "status": "ok",
     "timestamp": 1685371156004,
     "user": {
      "displayName": "Caio Cesar Beleza",
      "userId": "00767076793462410646"
     },
     "user_tz": 180
    },
    "id": "CBCFVALm4Af8"
   },
   "outputs": [],
   "source": [
    "le = preprocessing.LabelEncoder()\n",
    "df['destination_city'] = le.fit_transform(df['destination_city'])"
   ]
  },
  {
   "cell_type": "code",
   "execution_count": 39,
   "metadata": {
    "executionInfo": {
     "elapsed": 351,
     "status": "ok",
     "timestamp": 1685371157613,
     "user": {
      "displayName": "Caio Cesar Beleza",
      "userId": "00767076793462410646"
     },
     "user_tz": 180
    },
    "id": "XJNr-e1L4EP9"
   },
   "outputs": [],
   "source": [
    "le = preprocessing.LabelEncoder()\n",
    "df['class'] = le.fit_transform(df['class'])"
   ]
  },
  {
   "cell_type": "code",
   "execution_count": 40,
   "metadata": {
    "colab": {
     "base_uri": "https://localhost:8080/",
     "height": 424
    },
    "executionInfo": {
     "elapsed": 404,
     "status": "ok",
     "timestamp": 1685371160091,
     "user": {
      "displayName": "Caio Cesar Beleza",
      "userId": "00767076793462410646"
     },
     "user_tz": 180
    },
    "id": "xvcnwmA83spu",
    "outputId": "c2473ac5-4d65-4010-9329-f3bdc8380ddb"
   },
   "outputs": [
    {
     "data": {
      "text/html": [
       "<div>\n",
       "<style scoped>\n",
       "    .dataframe tbody tr th:only-of-type {\n",
       "        vertical-align: middle;\n",
       "    }\n",
       "\n",
       "    .dataframe tbody tr th {\n",
       "        vertical-align: top;\n",
       "    }\n",
       "\n",
       "    .dataframe thead th {\n",
       "        text-align: right;\n",
       "    }\n",
       "</style>\n",
       "<table border=\"1\" class=\"dataframe\">\n",
       "  <thead>\n",
       "    <tr style=\"text-align: right;\">\n",
       "      <th></th>\n",
       "      <th>airline</th>\n",
       "      <th>flight</th>\n",
       "      <th>source_city</th>\n",
       "      <th>departure_time</th>\n",
       "      <th>stops</th>\n",
       "      <th>arrival_time</th>\n",
       "      <th>destination_city</th>\n",
       "      <th>class</th>\n",
       "      <th>duration</th>\n",
       "      <th>days_left</th>\n",
       "      <th>price</th>\n",
       "    </tr>\n",
       "  </thead>\n",
       "  <tbody>\n",
       "    <tr>\n",
       "      <th>0</th>\n",
       "      <td>4</td>\n",
       "      <td>SG-8709</td>\n",
       "      <td>2</td>\n",
       "      <td>2</td>\n",
       "      <td>2</td>\n",
       "      <td>5</td>\n",
       "      <td>5</td>\n",
       "      <td>1</td>\n",
       "      <td>2.17</td>\n",
       "      <td>1</td>\n",
       "      <td>5953</td>\n",
       "    </tr>\n",
       "    <tr>\n",
       "      <th>1</th>\n",
       "      <td>4</td>\n",
       "      <td>SG-8157</td>\n",
       "      <td>2</td>\n",
       "      <td>1</td>\n",
       "      <td>2</td>\n",
       "      <td>4</td>\n",
       "      <td>5</td>\n",
       "      <td>1</td>\n",
       "      <td>2.33</td>\n",
       "      <td>1</td>\n",
       "      <td>5953</td>\n",
       "    </tr>\n",
       "    <tr>\n",
       "      <th>2</th>\n",
       "      <td>0</td>\n",
       "      <td>I5-764</td>\n",
       "      <td>2</td>\n",
       "      <td>1</td>\n",
       "      <td>2</td>\n",
       "      <td>1</td>\n",
       "      <td>5</td>\n",
       "      <td>1</td>\n",
       "      <td>2.17</td>\n",
       "      <td>1</td>\n",
       "      <td>5956</td>\n",
       "    </tr>\n",
       "    <tr>\n",
       "      <th>3</th>\n",
       "      <td>5</td>\n",
       "      <td>UK-995</td>\n",
       "      <td>2</td>\n",
       "      <td>4</td>\n",
       "      <td>2</td>\n",
       "      <td>0</td>\n",
       "      <td>5</td>\n",
       "      <td>1</td>\n",
       "      <td>2.25</td>\n",
       "      <td>1</td>\n",
       "      <td>5955</td>\n",
       "    </tr>\n",
       "    <tr>\n",
       "      <th>4</th>\n",
       "      <td>5</td>\n",
       "      <td>UK-963</td>\n",
       "      <td>2</td>\n",
       "      <td>4</td>\n",
       "      <td>2</td>\n",
       "      <td>4</td>\n",
       "      <td>5</td>\n",
       "      <td>1</td>\n",
       "      <td>2.33</td>\n",
       "      <td>1</td>\n",
       "      <td>5955</td>\n",
       "    </tr>\n",
       "    <tr>\n",
       "      <th>...</th>\n",
       "      <td>...</td>\n",
       "      <td>...</td>\n",
       "      <td>...</td>\n",
       "      <td>...</td>\n",
       "      <td>...</td>\n",
       "      <td>...</td>\n",
       "      <td>...</td>\n",
       "      <td>...</td>\n",
       "      <td>...</td>\n",
       "      <td>...</td>\n",
       "      <td>...</td>\n",
       "    </tr>\n",
       "    <tr>\n",
       "      <th>300148</th>\n",
       "      <td>5</td>\n",
       "      <td>UK-822</td>\n",
       "      <td>1</td>\n",
       "      <td>4</td>\n",
       "      <td>0</td>\n",
       "      <td>2</td>\n",
       "      <td>3</td>\n",
       "      <td>0</td>\n",
       "      <td>10.08</td>\n",
       "      <td>49</td>\n",
       "      <td>69265</td>\n",
       "    </tr>\n",
       "    <tr>\n",
       "      <th>300149</th>\n",
       "      <td>5</td>\n",
       "      <td>UK-826</td>\n",
       "      <td>1</td>\n",
       "      <td>0</td>\n",
       "      <td>0</td>\n",
       "      <td>5</td>\n",
       "      <td>3</td>\n",
       "      <td>0</td>\n",
       "      <td>10.42</td>\n",
       "      <td>49</td>\n",
       "      <td>77105</td>\n",
       "    </tr>\n",
       "    <tr>\n",
       "      <th>300150</th>\n",
       "      <td>5</td>\n",
       "      <td>UK-832</td>\n",
       "      <td>1</td>\n",
       "      <td>1</td>\n",
       "      <td>0</td>\n",
       "      <td>5</td>\n",
       "      <td>3</td>\n",
       "      <td>0</td>\n",
       "      <td>13.83</td>\n",
       "      <td>49</td>\n",
       "      <td>79099</td>\n",
       "    </tr>\n",
       "    <tr>\n",
       "      <th>300151</th>\n",
       "      <td>5</td>\n",
       "      <td>UK-828</td>\n",
       "      <td>1</td>\n",
       "      <td>1</td>\n",
       "      <td>0</td>\n",
       "      <td>2</td>\n",
       "      <td>3</td>\n",
       "      <td>0</td>\n",
       "      <td>10.00</td>\n",
       "      <td>49</td>\n",
       "      <td>81585</td>\n",
       "    </tr>\n",
       "    <tr>\n",
       "      <th>300152</th>\n",
       "      <td>5</td>\n",
       "      <td>UK-822</td>\n",
       "      <td>1</td>\n",
       "      <td>4</td>\n",
       "      <td>0</td>\n",
       "      <td>2</td>\n",
       "      <td>3</td>\n",
       "      <td>0</td>\n",
       "      <td>10.08</td>\n",
       "      <td>49</td>\n",
       "      <td>81585</td>\n",
       "    </tr>\n",
       "  </tbody>\n",
       "</table>\n",
       "<p>300153 rows × 11 columns</p>\n",
       "</div>"
      ],
      "text/plain": [
       "        airline   flight  source_city  departure_time  stops  arrival_time  \\\n",
       "0             4  SG-8709            2               2      2             5   \n",
       "1             4  SG-8157            2               1      2             4   \n",
       "2             0   I5-764            2               1      2             1   \n",
       "3             5   UK-995            2               4      2             0   \n",
       "4             5   UK-963            2               4      2             4   \n",
       "...         ...      ...          ...             ...    ...           ...   \n",
       "300148        5   UK-822            1               4      0             2   \n",
       "300149        5   UK-826            1               0      0             5   \n",
       "300150        5   UK-832            1               1      0             5   \n",
       "300151        5   UK-828            1               1      0             2   \n",
       "300152        5   UK-822            1               4      0             2   \n",
       "\n",
       "        destination_city  class  duration  days_left  price  \n",
       "0                      5      1      2.17          1   5953  \n",
       "1                      5      1      2.33          1   5953  \n",
       "2                      5      1      2.17          1   5956  \n",
       "3                      5      1      2.25          1   5955  \n",
       "4                      5      1      2.33          1   5955  \n",
       "...                  ...    ...       ...        ...    ...  \n",
       "300148                 3      0     10.08         49  69265  \n",
       "300149                 3      0     10.42         49  77105  \n",
       "300150                 3      0     13.83         49  79099  \n",
       "300151                 3      0     10.00         49  81585  \n",
       "300152                 3      0     10.08         49  81585  \n",
       "\n",
       "[300153 rows x 11 columns]"
      ]
     },
     "execution_count": 40,
     "metadata": {},
     "output_type": "execute_result"
    }
   ],
   "source": [
    "df"
   ]
  },
  {
   "cell_type": "code",
   "execution_count": 41,
   "metadata": {
    "colab": {
     "base_uri": "https://localhost:8080/",
     "height": 424
    },
    "executionInfo": {
     "elapsed": 276,
     "status": "ok",
     "timestamp": 1685371165209,
     "user": {
      "displayName": "Caio Cesar Beleza",
      "userId": "00767076793462410646"
     },
     "user_tz": 180
    },
    "id": "DuBe4jvN69n5",
    "outputId": "cbdeec4d-01cc-4e3d-e289-a4f154fb8042"
   },
   "outputs": [
    {
     "data": {
      "text/html": [
       "<div>\n",
       "<style scoped>\n",
       "    .dataframe tbody tr th:only-of-type {\n",
       "        vertical-align: middle;\n",
       "    }\n",
       "\n",
       "    .dataframe tbody tr th {\n",
       "        vertical-align: top;\n",
       "    }\n",
       "\n",
       "    .dataframe thead th {\n",
       "        text-align: right;\n",
       "    }\n",
       "</style>\n",
       "<table border=\"1\" class=\"dataframe\">\n",
       "  <thead>\n",
       "    <tr style=\"text-align: right;\">\n",
       "      <th></th>\n",
       "      <th>airline</th>\n",
       "      <th>source_city</th>\n",
       "      <th>departure_time</th>\n",
       "      <th>stops</th>\n",
       "      <th>arrival_time</th>\n",
       "      <th>destination_city</th>\n",
       "      <th>class</th>\n",
       "      <th>duration</th>\n",
       "      <th>days_left</th>\n",
       "      <th>price</th>\n",
       "    </tr>\n",
       "  </thead>\n",
       "  <tbody>\n",
       "    <tr>\n",
       "      <th>0</th>\n",
       "      <td>4</td>\n",
       "      <td>2</td>\n",
       "      <td>2</td>\n",
       "      <td>2</td>\n",
       "      <td>5</td>\n",
       "      <td>5</td>\n",
       "      <td>1</td>\n",
       "      <td>2.17</td>\n",
       "      <td>1</td>\n",
       "      <td>5953</td>\n",
       "    </tr>\n",
       "    <tr>\n",
       "      <th>1</th>\n",
       "      <td>4</td>\n",
       "      <td>2</td>\n",
       "      <td>1</td>\n",
       "      <td>2</td>\n",
       "      <td>4</td>\n",
       "      <td>5</td>\n",
       "      <td>1</td>\n",
       "      <td>2.33</td>\n",
       "      <td>1</td>\n",
       "      <td>5953</td>\n",
       "    </tr>\n",
       "    <tr>\n",
       "      <th>2</th>\n",
       "      <td>0</td>\n",
       "      <td>2</td>\n",
       "      <td>1</td>\n",
       "      <td>2</td>\n",
       "      <td>1</td>\n",
       "      <td>5</td>\n",
       "      <td>1</td>\n",
       "      <td>2.17</td>\n",
       "      <td>1</td>\n",
       "      <td>5956</td>\n",
       "    </tr>\n",
       "    <tr>\n",
       "      <th>3</th>\n",
       "      <td>5</td>\n",
       "      <td>2</td>\n",
       "      <td>4</td>\n",
       "      <td>2</td>\n",
       "      <td>0</td>\n",
       "      <td>5</td>\n",
       "      <td>1</td>\n",
       "      <td>2.25</td>\n",
       "      <td>1</td>\n",
       "      <td>5955</td>\n",
       "    </tr>\n",
       "    <tr>\n",
       "      <th>4</th>\n",
       "      <td>5</td>\n",
       "      <td>2</td>\n",
       "      <td>4</td>\n",
       "      <td>2</td>\n",
       "      <td>4</td>\n",
       "      <td>5</td>\n",
       "      <td>1</td>\n",
       "      <td>2.33</td>\n",
       "      <td>1</td>\n",
       "      <td>5955</td>\n",
       "    </tr>\n",
       "    <tr>\n",
       "      <th>...</th>\n",
       "      <td>...</td>\n",
       "      <td>...</td>\n",
       "      <td>...</td>\n",
       "      <td>...</td>\n",
       "      <td>...</td>\n",
       "      <td>...</td>\n",
       "      <td>...</td>\n",
       "      <td>...</td>\n",
       "      <td>...</td>\n",
       "      <td>...</td>\n",
       "    </tr>\n",
       "    <tr>\n",
       "      <th>300148</th>\n",
       "      <td>5</td>\n",
       "      <td>1</td>\n",
       "      <td>4</td>\n",
       "      <td>0</td>\n",
       "      <td>2</td>\n",
       "      <td>3</td>\n",
       "      <td>0</td>\n",
       "      <td>10.08</td>\n",
       "      <td>49</td>\n",
       "      <td>69265</td>\n",
       "    </tr>\n",
       "    <tr>\n",
       "      <th>300149</th>\n",
       "      <td>5</td>\n",
       "      <td>1</td>\n",
       "      <td>0</td>\n",
       "      <td>0</td>\n",
       "      <td>5</td>\n",
       "      <td>3</td>\n",
       "      <td>0</td>\n",
       "      <td>10.42</td>\n",
       "      <td>49</td>\n",
       "      <td>77105</td>\n",
       "    </tr>\n",
       "    <tr>\n",
       "      <th>300150</th>\n",
       "      <td>5</td>\n",
       "      <td>1</td>\n",
       "      <td>1</td>\n",
       "      <td>0</td>\n",
       "      <td>5</td>\n",
       "      <td>3</td>\n",
       "      <td>0</td>\n",
       "      <td>13.83</td>\n",
       "      <td>49</td>\n",
       "      <td>79099</td>\n",
       "    </tr>\n",
       "    <tr>\n",
       "      <th>300151</th>\n",
       "      <td>5</td>\n",
       "      <td>1</td>\n",
       "      <td>1</td>\n",
       "      <td>0</td>\n",
       "      <td>2</td>\n",
       "      <td>3</td>\n",
       "      <td>0</td>\n",
       "      <td>10.00</td>\n",
       "      <td>49</td>\n",
       "      <td>81585</td>\n",
       "    </tr>\n",
       "    <tr>\n",
       "      <th>300152</th>\n",
       "      <td>5</td>\n",
       "      <td>1</td>\n",
       "      <td>4</td>\n",
       "      <td>0</td>\n",
       "      <td>2</td>\n",
       "      <td>3</td>\n",
       "      <td>0</td>\n",
       "      <td>10.08</td>\n",
       "      <td>49</td>\n",
       "      <td>81585</td>\n",
       "    </tr>\n",
       "  </tbody>\n",
       "</table>\n",
       "<p>300153 rows × 10 columns</p>\n",
       "</div>"
      ],
      "text/plain": [
       "        airline  source_city  departure_time  stops  arrival_time  \\\n",
       "0             4            2               2      2             5   \n",
       "1             4            2               1      2             4   \n",
       "2             0            2               1      2             1   \n",
       "3             5            2               4      2             0   \n",
       "4             5            2               4      2             4   \n",
       "...         ...          ...             ...    ...           ...   \n",
       "300148        5            1               4      0             2   \n",
       "300149        5            1               0      0             5   \n",
       "300150        5            1               1      0             5   \n",
       "300151        5            1               1      0             2   \n",
       "300152        5            1               4      0             2   \n",
       "\n",
       "        destination_city  class  duration  days_left  price  \n",
       "0                      5      1      2.17          1   5953  \n",
       "1                      5      1      2.33          1   5953  \n",
       "2                      5      1      2.17          1   5956  \n",
       "3                      5      1      2.25          1   5955  \n",
       "4                      5      1      2.33          1   5955  \n",
       "...                  ...    ...       ...        ...    ...  \n",
       "300148                 3      0     10.08         49  69265  \n",
       "300149                 3      0     10.42         49  77105  \n",
       "300150                 3      0     13.83         49  79099  \n",
       "300151                 3      0     10.00         49  81585  \n",
       "300152                 3      0     10.08         49  81585  \n",
       "\n",
       "[300153 rows x 10 columns]"
      ]
     },
     "execution_count": 41,
     "metadata": {},
     "output_type": "execute_result"
    }
   ],
   "source": [
    "df = df.drop(['flight'], axis=1)\n",
    "df"
   ]
  },
  {
   "cell_type": "code",
   "execution_count": 42,
   "metadata": {
    "colab": {
     "base_uri": "https://localhost:8080/",
     "height": 424
    },
    "executionInfo": {
     "elapsed": 260,
     "status": "ok",
     "timestamp": 1685371168616,
     "user": {
      "displayName": "Caio Cesar Beleza",
      "userId": "00767076793462410646"
     },
     "user_tz": 180
    },
    "id": "oR2rfj-07Ldg",
    "outputId": "869ee251-211e-4385-ad0a-ff20f917a274"
   },
   "outputs": [
    {
     "data": {
      "text/html": [
       "<div>\n",
       "<style scoped>\n",
       "    .dataframe tbody tr th:only-of-type {\n",
       "        vertical-align: middle;\n",
       "    }\n",
       "\n",
       "    .dataframe tbody tr th {\n",
       "        vertical-align: top;\n",
       "    }\n",
       "\n",
       "    .dataframe thead th {\n",
       "        text-align: right;\n",
       "    }\n",
       "</style>\n",
       "<table border=\"1\" class=\"dataframe\">\n",
       "  <thead>\n",
       "    <tr style=\"text-align: right;\">\n",
       "      <th></th>\n",
       "      <th>airline</th>\n",
       "      <th>source_city</th>\n",
       "      <th>departure_time</th>\n",
       "      <th>stops</th>\n",
       "      <th>arrival_time</th>\n",
       "      <th>destination_city</th>\n",
       "      <th>class</th>\n",
       "      <th>duration</th>\n",
       "      <th>days_left</th>\n",
       "    </tr>\n",
       "  </thead>\n",
       "  <tbody>\n",
       "    <tr>\n",
       "      <th>0</th>\n",
       "      <td>4</td>\n",
       "      <td>2</td>\n",
       "      <td>2</td>\n",
       "      <td>2</td>\n",
       "      <td>5</td>\n",
       "      <td>5</td>\n",
       "      <td>1</td>\n",
       "      <td>2.17</td>\n",
       "      <td>1</td>\n",
       "    </tr>\n",
       "    <tr>\n",
       "      <th>1</th>\n",
       "      <td>4</td>\n",
       "      <td>2</td>\n",
       "      <td>1</td>\n",
       "      <td>2</td>\n",
       "      <td>4</td>\n",
       "      <td>5</td>\n",
       "      <td>1</td>\n",
       "      <td>2.33</td>\n",
       "      <td>1</td>\n",
       "    </tr>\n",
       "    <tr>\n",
       "      <th>2</th>\n",
       "      <td>0</td>\n",
       "      <td>2</td>\n",
       "      <td>1</td>\n",
       "      <td>2</td>\n",
       "      <td>1</td>\n",
       "      <td>5</td>\n",
       "      <td>1</td>\n",
       "      <td>2.17</td>\n",
       "      <td>1</td>\n",
       "    </tr>\n",
       "    <tr>\n",
       "      <th>3</th>\n",
       "      <td>5</td>\n",
       "      <td>2</td>\n",
       "      <td>4</td>\n",
       "      <td>2</td>\n",
       "      <td>0</td>\n",
       "      <td>5</td>\n",
       "      <td>1</td>\n",
       "      <td>2.25</td>\n",
       "      <td>1</td>\n",
       "    </tr>\n",
       "    <tr>\n",
       "      <th>4</th>\n",
       "      <td>5</td>\n",
       "      <td>2</td>\n",
       "      <td>4</td>\n",
       "      <td>2</td>\n",
       "      <td>4</td>\n",
       "      <td>5</td>\n",
       "      <td>1</td>\n",
       "      <td>2.33</td>\n",
       "      <td>1</td>\n",
       "    </tr>\n",
       "    <tr>\n",
       "      <th>...</th>\n",
       "      <td>...</td>\n",
       "      <td>...</td>\n",
       "      <td>...</td>\n",
       "      <td>...</td>\n",
       "      <td>...</td>\n",
       "      <td>...</td>\n",
       "      <td>...</td>\n",
       "      <td>...</td>\n",
       "      <td>...</td>\n",
       "    </tr>\n",
       "    <tr>\n",
       "      <th>300148</th>\n",
       "      <td>5</td>\n",
       "      <td>1</td>\n",
       "      <td>4</td>\n",
       "      <td>0</td>\n",
       "      <td>2</td>\n",
       "      <td>3</td>\n",
       "      <td>0</td>\n",
       "      <td>10.08</td>\n",
       "      <td>49</td>\n",
       "    </tr>\n",
       "    <tr>\n",
       "      <th>300149</th>\n",
       "      <td>5</td>\n",
       "      <td>1</td>\n",
       "      <td>0</td>\n",
       "      <td>0</td>\n",
       "      <td>5</td>\n",
       "      <td>3</td>\n",
       "      <td>0</td>\n",
       "      <td>10.42</td>\n",
       "      <td>49</td>\n",
       "    </tr>\n",
       "    <tr>\n",
       "      <th>300150</th>\n",
       "      <td>5</td>\n",
       "      <td>1</td>\n",
       "      <td>1</td>\n",
       "      <td>0</td>\n",
       "      <td>5</td>\n",
       "      <td>3</td>\n",
       "      <td>0</td>\n",
       "      <td>13.83</td>\n",
       "      <td>49</td>\n",
       "    </tr>\n",
       "    <tr>\n",
       "      <th>300151</th>\n",
       "      <td>5</td>\n",
       "      <td>1</td>\n",
       "      <td>1</td>\n",
       "      <td>0</td>\n",
       "      <td>2</td>\n",
       "      <td>3</td>\n",
       "      <td>0</td>\n",
       "      <td>10.00</td>\n",
       "      <td>49</td>\n",
       "    </tr>\n",
       "    <tr>\n",
       "      <th>300152</th>\n",
       "      <td>5</td>\n",
       "      <td>1</td>\n",
       "      <td>4</td>\n",
       "      <td>0</td>\n",
       "      <td>2</td>\n",
       "      <td>3</td>\n",
       "      <td>0</td>\n",
       "      <td>10.08</td>\n",
       "      <td>49</td>\n",
       "    </tr>\n",
       "  </tbody>\n",
       "</table>\n",
       "<p>300153 rows × 9 columns</p>\n",
       "</div>"
      ],
      "text/plain": [
       "        airline  source_city  departure_time  stops  arrival_time  \\\n",
       "0             4            2               2      2             5   \n",
       "1             4            2               1      2             4   \n",
       "2             0            2               1      2             1   \n",
       "3             5            2               4      2             0   \n",
       "4             5            2               4      2             4   \n",
       "...         ...          ...             ...    ...           ...   \n",
       "300148        5            1               4      0             2   \n",
       "300149        5            1               0      0             5   \n",
       "300150        5            1               1      0             5   \n",
       "300151        5            1               1      0             2   \n",
       "300152        5            1               4      0             2   \n",
       "\n",
       "        destination_city  class  duration  days_left  \n",
       "0                      5      1      2.17          1  \n",
       "1                      5      1      2.33          1  \n",
       "2                      5      1      2.17          1  \n",
       "3                      5      1      2.25          1  \n",
       "4                      5      1      2.33          1  \n",
       "...                  ...    ...       ...        ...  \n",
       "300148                 3      0     10.08         49  \n",
       "300149                 3      0     10.42         49  \n",
       "300150                 3      0     13.83         49  \n",
       "300151                 3      0     10.00         49  \n",
       "300152                 3      0     10.08         49  \n",
       "\n",
       "[300153 rows x 9 columns]"
      ]
     },
     "execution_count": 42,
     "metadata": {},
     "output_type": "execute_result"
    }
   ],
   "source": [
    "X = df.drop(['price'], axis=1)\n",
    "X"
   ]
  },
  {
   "cell_type": "code",
   "execution_count": 43,
   "metadata": {
    "colab": {
     "base_uri": "https://localhost:8080/"
    },
    "executionInfo": {
     "elapsed": 271,
     "status": "ok",
     "timestamp": 1685371171428,
     "user": {
      "displayName": "Caio Cesar Beleza",
      "userId": "00767076793462410646"
     },
     "user_tz": 180
    },
    "id": "iomz1BeP7OFE",
    "outputId": "90d9bd32-cc7d-46f5-fa58-957cb0f1d182"
   },
   "outputs": [
    {
     "data": {
      "text/plain": [
       "0          5953\n",
       "1          5953\n",
       "2          5956\n",
       "3          5955\n",
       "4          5955\n",
       "          ...  \n",
       "300148    69265\n",
       "300149    77105\n",
       "300150    79099\n",
       "300151    81585\n",
       "300152    81585\n",
       "Name: price, Length: 300153, dtype: int64"
      ]
     },
     "execution_count": 43,
     "metadata": {},
     "output_type": "execute_result"
    }
   ],
   "source": [
    "y = df[('price')]\n",
    "y"
   ]
  },
  {
   "cell_type": "code",
   "execution_count": 70,
   "metadata": {},
   "outputs": [],
   "source": [
    "mmscaler=MinMaxScaler(feature_range =(0,1))\n",
    "X_train = mmscaler.fit_transform(X_train)\n",
    "X_test = mmscaler.fit_transform(X_test)\n",
    "X_train = pd.DataFrame(X_train)\n",
    "X_test = pd.DataFrame(X_test)"
   ]
  },
  {
   "cell_type": "code",
   "execution_count": 71,
   "metadata": {
    "id": "uh8BiG0n8NJW"
   },
   "outputs": [],
   "source": [
    "Results = pd.DataFrame()"
   ]
  },
  {
   "cell_type": "code",
   "execution_count": 72,
   "metadata": {
    "colab": {
     "base_uri": "https://localhost:8080/",
     "height": 424
    },
    "executionInfo": {
     "elapsed": 255,
     "status": "ok",
     "timestamp": 1685371175851,
     "user": {
      "displayName": "Caio Cesar Beleza",
      "userId": "00767076793462410646"
     },
     "user_tz": 180
    },
    "id": "WfWYx5Yw8Jzp",
    "outputId": "c20ca8ef-e915-4798-f31f-d0ede102b9d7"
   },
   "outputs": [],
   "source": [
    "#Creating a function to calculate Mean Absolute Percentage Error(MAPE)\n",
    "def MAPE(y_test, y_pred):\n",
    "  y_test, y_pred = np.array(y_test), np.array(y_pred)\n",
    "  return np.mean(np.abs((y_test-y_pred)/y_pred))*100"
   ]
  },
  {
   "cell_type": "code",
   "execution_count": 73,
   "metadata": {},
   "outputs": [],
   "source": [
    "#Creating a function to calculate different statstical numbers:\n",
    "def Result_Stat(X_train, y_train,X_test, y_test,models):\n",
    "\n",
    "   #Predict model with test data.\n",
    "   y_pred = models.predict(X_test)\n",
    "   #Print model name\n",
    "   print(\"Model Name: \",models)\n",
    "   print(\"Mean Absolute Error_MAE: \",round(mean_absolute_error(y_test, y_pred),3))\n",
    "   print(\"Mean Squared Error_MSE: \",round(mean_squared_error(y_test, y_pred),3))\n",
    "   print(\"Root Mean Squared Error_RMSE: \",round(np.sqrt(mean_absolute_error(y_test, y_pred)),3))\n",
    "   print(\"R2_Score: \",round(r2_score(y_test, y_pred),3))\n",
    "   print(\"Root Mean Squared Log Error (RMSLE): \",round(np.log(np.sqrt(mean_absolute_error(y_test, y_pred))),3))\n",
    "   result = MAPE(y_test,y_pred)\n",
    "   print(\"Mean Absolute Error Percentage: \", round(result,2),'%')\n",
    "   r_squared = round(r2_score(y_test,y_pred),2)\n",
    "   adjusted_r_square = round(1-(1-r_squared) * (len(y)-1)/ (len(y)-X.shape[1]-1),2)\n",
    "   print(\"------------------------------------------------------------------------\")\n",
    "   new_row ={\n",
    "       \"Model Name\":models,\n",
    "       'Mean_Absolute_Error_MAE': mean_absolute_error(y_test, y_pred),\n",
    "       'Mean_Squared_Error_MSE':mean_squared_error(y_test, y_pred),\n",
    "       \"Root_Mean_Squared_Error_RMSE\":np.sqrt(mean_absolute_error(y_test, y_pred)),\n",
    "       \"Adj_R_Square\":adjusted_r_square,\n",
    "       \"Root_Mean_Squared_Error_Percentage_MAPE\":result,\n",
    "       \"Root_Mean_Squared_Log_Error_RMSLE\":np.log(np.sqrt(mean_absolute_error(y_test, y_pred))),\n",
    "       \"R2_Score\": r_squared\n",
    "       }\n",
    "   return new_row"
   ]
  },
  {
   "cell_type": "code",
   "execution_count": null,
   "metadata": {},
   "outputs": [],
   "source": [
    "modelmlg = LinearRegression()\n",
    "print(\"Linear regression model fitting\")\n",
    "modelmlg.fit(X_train,y_train)\n",
    "print(\"Linear Regression Model Test Result\\n\")\n",
    "Results = Results.append(Result_Stat(X_train = X_train, y_train = y_train, X_test=X_test,y_test=y_test, models = modelmlg), ignore_index=True)\n",
    "\n",
    "modeldcr = DecisionTreeRegressor()\n",
    "print(\"Decision Tree Regression model fitting\")\n",
    "modeldcr.fit(X_train, y_train)\n",
    "Results = Results.append(Result_Stat(X_train = X_train, y_train = y_train, X_test=X_test,y_test=y_test, models = modeldcr), ignore_index=True)\n",
    "\n",
    "\n",
    "modelbag = BaggingRegressor()\n",
    "\n",
    "print(\"Bagging Boosting Regressor Model Training\")\n",
    "modelbag.fit(X_train, y_train)\n",
    "result = Result_Stat(X_train = X_train, y_train = y_train, X_test=X_test,y_test=y_test, models = modelbag)\n",
    "Results = Results.append(result, ignore_index=True)\n",
    "\n",
    "\n",
    "modelrfr = RandomForestRegressor()\n",
    "print(\"Random Forest Regressor Model Training\")\n",
    "modelrfr.fit(X_train, y_train)\n",
    "result = Result_Stat(X_train = X_train, y_train = y_train, X_test=X_test,y_test=y_test, models = modelrfr)\n",
    "Results = Results.append(result, ignore_index=True)\n",
    "\n",
    "\n",
    "modelXGR = xgb.XGBRegressor()\n",
    "print(\"XGB Regressor Model Training\")\n",
    "modelXGR.fit(X_train, y_train)\n",
    "result = Result_Stat(X_train = X_train, y_train = y_train, X_test=X_test,y_test=y_test, models = modelXGR)\n",
    "Results = Results.append(result, ignore_index=True)\n",
    "\n",
    "modelKNN = KNeighborsRegressor(n_neighbors=5)\n",
    "print(\"K Neighbour Regressor Model Training\")\n",
    "modelKNN.fit(X_train, y_train)\n",
    "result = Result_Stat(X_train = X_train, y_train = y_train, X_test=X_test,y_test=y_test, models = modelKNN)\n",
    "Results = Results.append(result, ignore_index=True)\n",
    "\n",
    "modelETR  = ExtraTreesRegressor()\n",
    "print(\"Extra Tree Regressor Model Training\")\n",
    "modelETR.fit(X_train, y_train)\n",
    "result = Result_Stat(X_train = X_train, y_train = y_train, X_test=X_test,y_test=y_test, models = modelETR)\n",
    "Results = Results.append(result, ignore_index=True)\n",
    "\n",
    "modelRE = Ridge()\n",
    "print(\"Ridge Model Training\")\n",
    "modelRE.fit(X_train, y_train)\n",
    "result = Result_Stat(X_train = X_train, y_train = y_train, X_test=X_test,y_test=y_test, models = modelRE)\n",
    "Results = Results.append(result, ignore_index=True)\n",
    "\n",
    "modelHGB = HistGradientBoostingRegressor()\n",
    "print(\"HGB Regressor Model Training\")\n",
    "modelHGB.fit(X_train, y_train)\n",
    "result = Result_Stat(X_train = X_train, y_train = y_train, X_test=X_test,y_test=y_test, models = modelHGB)\n",
    "Results = Results.append(result, ignore_index=True)\n",
    "\n",
    "\n",
    "modelLO = linear_model.Lasso(alpha = 0.1)\n",
    "print(\"Lasso Model Training\")\n",
    "modelLO.fit(X_train, y_train)\n",
    "result = Result_Stat(X_train = X_train, y_train = y_train, X_test=X_test,y_test=y_test, models = modelLO)\n",
    "Results = Results.append(result, ignore_index=True)\n",
    "\n",
    "modelGBR = GradientBoostingRegressor(loss='squared_error', random_state = 42,learning_rate=0.1, n_estimators=100,criterion='friedman_mse',\n",
    "                                     min_samples_split=2, min_samples_leaf=1,min_weight_fraction_leaf=0.0, max_depth=3, min_impurity_decrease=0.0, \n",
    "                                     init=None,  max_features=None, alpha=0.9, verbose=0, max_leaf_nodes=None, \n",
    "                                     warm_start=False, validation_fraction=0.1, n_iter_no_change=None, tol=0.0001, ccp_alpha=0.0)\n",
    "\n",
    "\n",
    "print(\"Gradient Boosting Regressor model Training\")\n",
    "modelGBR.fit(X_train, y_train)\n",
    "result = Result_Stat(X_train = X_train, y_train = y_train, X_test=X_test,y_test=y_test, models = modelGBR)\n",
    "Results = Results.append(result, ignore_index=True)"
   ]
  },
  {
   "cell_type": "code",
   "execution_count": 75,
   "metadata": {},
   "outputs": [
    {
     "data": {
      "text/html": [
       "<div>\n",
       "<style scoped>\n",
       "    .dataframe tbody tr th:only-of-type {\n",
       "        vertical-align: middle;\n",
       "    }\n",
       "\n",
       "    .dataframe tbody tr th {\n",
       "        vertical-align: top;\n",
       "    }\n",
       "\n",
       "    .dataframe thead th {\n",
       "        text-align: right;\n",
       "    }\n",
       "</style>\n",
       "<table border=\"1\" class=\"dataframe\">\n",
       "  <thead>\n",
       "    <tr style=\"text-align: right;\">\n",
       "      <th></th>\n",
       "      <th>Model Name</th>\n",
       "      <th>Mean_Absolute_Error_MAE</th>\n",
       "      <th>Mean_Squared_Error_MSE</th>\n",
       "      <th>Root_Mean_Squared_Error_RMSE</th>\n",
       "      <th>Adj_R_Square</th>\n",
       "      <th>Root_Mean_Squared_Error_Percentage_MAPE</th>\n",
       "      <th>Root_Mean_Squared_Log_Error_RMSLE</th>\n",
       "      <th>R2_Score</th>\n",
       "    </tr>\n",
       "  </thead>\n",
       "  <tbody>\n",
       "    <tr>\n",
       "      <th>3</th>\n",
       "      <td>(DecisionTreeRegressor(max_features=1.0, rando...</td>\n",
       "      <td>2036.422139</td>\n",
       "      <td>1.792732e+07</td>\n",
       "      <td>45.126734</td>\n",
       "      <td>0.97</td>\n",
       "      <td>11.647907</td>\n",
       "      <td>3.809475</td>\n",
       "      <td>0.97</td>\n",
       "    </tr>\n",
       "    <tr>\n",
       "      <th>5</th>\n",
       "      <td>KNeighborsRegressor()</td>\n",
       "      <td>1968.483235</td>\n",
       "      <td>1.576663e+07</td>\n",
       "      <td>44.367592</td>\n",
       "      <td>0.97</td>\n",
       "      <td>11.767871</td>\n",
       "      <td>3.792509</td>\n",
       "      <td>0.97</td>\n",
       "    </tr>\n",
       "    <tr>\n",
       "      <th>6</th>\n",
       "      <td>(ExtraTreeRegressor(random_state=1402481934), ...</td>\n",
       "      <td>1822.355222</td>\n",
       "      <td>1.510343e+07</td>\n",
       "      <td>42.689053</td>\n",
       "      <td>0.97</td>\n",
       "      <td>10.804069</td>\n",
       "      <td>3.753943</td>\n",
       "      <td>0.97</td>\n",
       "    </tr>\n",
       "    <tr>\n",
       "      <th>2</th>\n",
       "      <td>(DecisionTreeRegressor(random_state=1761383086...</td>\n",
       "      <td>2086.773337</td>\n",
       "      <td>1.907608e+07</td>\n",
       "      <td>45.681214</td>\n",
       "      <td>0.96</td>\n",
       "      <td>11.962760</td>\n",
       "      <td>3.821687</td>\n",
       "      <td>0.96</td>\n",
       "    </tr>\n",
       "    <tr>\n",
       "      <th>4</th>\n",
       "      <td>XGBRegressor(base_score=None, booster=None, ca...</td>\n",
       "      <td>2510.629415</td>\n",
       "      <td>1.898139e+07</td>\n",
       "      <td>50.106181</td>\n",
       "      <td>0.96</td>\n",
       "      <td>21.168129</td>\n",
       "      <td>3.914144</td>\n",
       "      <td>0.96</td>\n",
       "    </tr>\n",
       "    <tr>\n",
       "      <th>8</th>\n",
       "      <td>HistGradientBoostingRegressor()</td>\n",
       "      <td>2511.291880</td>\n",
       "      <td>1.817855e+07</td>\n",
       "      <td>50.112792</td>\n",
       "      <td>0.96</td>\n",
       "      <td>17.240049</td>\n",
       "      <td>3.914276</td>\n",
       "      <td>0.96</td>\n",
       "    </tr>\n",
       "    <tr>\n",
       "      <th>1</th>\n",
       "      <td>DecisionTreeRegressor()</td>\n",
       "      <td>2291.691645</td>\n",
       "      <td>2.737649e+07</td>\n",
       "      <td>47.871616</td>\n",
       "      <td>0.95</td>\n",
       "      <td>13.227262</td>\n",
       "      <td>3.868523</td>\n",
       "      <td>0.95</td>\n",
       "    </tr>\n",
       "    <tr>\n",
       "      <th>10</th>\n",
       "      <td>([DecisionTreeRegressor(criterion='friedman_ms...</td>\n",
       "      <td>2977.963119</td>\n",
       "      <td>2.468047e+07</td>\n",
       "      <td>54.570717</td>\n",
       "      <td>0.95</td>\n",
       "      <td>19.450937</td>\n",
       "      <td>3.999497</td>\n",
       "      <td>0.95</td>\n",
       "    </tr>\n",
       "    <tr>\n",
       "      <th>0</th>\n",
       "      <td>LinearRegression()</td>\n",
       "      <td>4635.477963</td>\n",
       "      <td>4.882656e+07</td>\n",
       "      <td>68.084344</td>\n",
       "      <td>0.91</td>\n",
       "      <td>162.214099</td>\n",
       "      <td>4.220747</td>\n",
       "      <td>0.91</td>\n",
       "    </tr>\n",
       "    <tr>\n",
       "      <th>7</th>\n",
       "      <td>Ridge()</td>\n",
       "      <td>4635.503711</td>\n",
       "      <td>4.882657e+07</td>\n",
       "      <td>68.084534</td>\n",
       "      <td>0.91</td>\n",
       "      <td>129.774855</td>\n",
       "      <td>4.220750</td>\n",
       "      <td>0.91</td>\n",
       "    </tr>\n",
       "    <tr>\n",
       "      <th>9</th>\n",
       "      <td>Lasso(alpha=0.1)</td>\n",
       "      <td>4635.364582</td>\n",
       "      <td>4.882648e+07</td>\n",
       "      <td>68.083512</td>\n",
       "      <td>0.91</td>\n",
       "      <td>316.234137</td>\n",
       "      <td>4.220735</td>\n",
       "      <td>0.91</td>\n",
       "    </tr>\n",
       "  </tbody>\n",
       "</table>\n",
       "</div>"
      ],
      "text/plain": [
       "                                           Model Name  \\\n",
       "3   (DecisionTreeRegressor(max_features=1.0, rando...   \n",
       "5                               KNeighborsRegressor()   \n",
       "6   (ExtraTreeRegressor(random_state=1402481934), ...   \n",
       "2   (DecisionTreeRegressor(random_state=1761383086...   \n",
       "4   XGBRegressor(base_score=None, booster=None, ca...   \n",
       "8                     HistGradientBoostingRegressor()   \n",
       "1                             DecisionTreeRegressor()   \n",
       "10  ([DecisionTreeRegressor(criterion='friedman_ms...   \n",
       "0                                  LinearRegression()   \n",
       "7                                             Ridge()   \n",
       "9                                    Lasso(alpha=0.1)   \n",
       "\n",
       "    Mean_Absolute_Error_MAE  Mean_Squared_Error_MSE  \\\n",
       "3               2036.422139            1.792732e+07   \n",
       "5               1968.483235            1.576663e+07   \n",
       "6               1822.355222            1.510343e+07   \n",
       "2               2086.773337            1.907608e+07   \n",
       "4               2510.629415            1.898139e+07   \n",
       "8               2511.291880            1.817855e+07   \n",
       "1               2291.691645            2.737649e+07   \n",
       "10              2977.963119            2.468047e+07   \n",
       "0               4635.477963            4.882656e+07   \n",
       "7               4635.503711            4.882657e+07   \n",
       "9               4635.364582            4.882648e+07   \n",
       "\n",
       "    Root_Mean_Squared_Error_RMSE  Adj_R_Square  \\\n",
       "3                      45.126734          0.97   \n",
       "5                      44.367592          0.97   \n",
       "6                      42.689053          0.97   \n",
       "2                      45.681214          0.96   \n",
       "4                      50.106181          0.96   \n",
       "8                      50.112792          0.96   \n",
       "1                      47.871616          0.95   \n",
       "10                     54.570717          0.95   \n",
       "0                      68.084344          0.91   \n",
       "7                      68.084534          0.91   \n",
       "9                      68.083512          0.91   \n",
       "\n",
       "    Root_Mean_Squared_Error_Percentage_MAPE  \\\n",
       "3                                 11.647907   \n",
       "5                                 11.767871   \n",
       "6                                 10.804069   \n",
       "2                                 11.962760   \n",
       "4                                 21.168129   \n",
       "8                                 17.240049   \n",
       "1                                 13.227262   \n",
       "10                                19.450937   \n",
       "0                                162.214099   \n",
       "7                                129.774855   \n",
       "9                                316.234137   \n",
       "\n",
       "    Root_Mean_Squared_Log_Error_RMSLE  R2_Score  \n",
       "3                            3.809475      0.97  \n",
       "5                            3.792509      0.97  \n",
       "6                            3.753943      0.97  \n",
       "2                            3.821687      0.96  \n",
       "4                            3.914144      0.96  \n",
       "8                            3.914276      0.96  \n",
       "1                            3.868523      0.95  \n",
       "10                           3.999497      0.95  \n",
       "0                            4.220747      0.91  \n",
       "7                            4.220750      0.91  \n",
       "9                            4.220735      0.91  "
      ]
     },
     "execution_count": 75,
     "metadata": {},
     "output_type": "execute_result"
    }
   ],
   "source": [
    "Results.sort_values(by = 'R2_Score', ascending=False)"
   ]
  }
 ],
 "metadata": {
  "colab": {
   "authorship_tag": "ABX9TyP/XwRgpC0MI2WcWi1ifIN7",
   "mount_file_id": "1L-XDY2R84r5AWYSkWO9yfrJj7R1cJxK3",
   "provenance": []
  },
  "kernelspec": {
   "display_name": "Python 3 (ipykernel)",
   "language": "python",
   "name": "python3"
  },
  "language_info": {
   "codemirror_mode": {
    "name": "ipython",
    "version": 3
   },
   "file_extension": ".py",
   "mimetype": "text/x-python",
   "name": "python",
   "nbconvert_exporter": "python",
   "pygments_lexer": "ipython3",
   "version": "3.10.9"
  }
 },
 "nbformat": 4,
 "nbformat_minor": 4
}
